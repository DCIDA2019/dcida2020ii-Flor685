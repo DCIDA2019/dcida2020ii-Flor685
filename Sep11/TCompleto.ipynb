{
 "cells": [
  {
   "cell_type": "code",
   "execution_count": 66,
   "metadata": {},
   "outputs": [],
   "source": [
    "import os\n",
    "import requests\n",
    "import pandas as pd\n",
    "import matplotlib.pyplot as plt\n",
    "import seaborn as sns"
   ]
  },
  {
   "cell_type": "code",
   "execution_count": 67,
   "metadata": {},
   "outputs": [],
   "source": [
    "#primero descargo las tablas de la dirección url donde se encuentran\n",
    "\n",
    "file = 'mat.csv'\n",
    "if not os.path.isfile(file):\n",
    "    url = \"https://github.com/resbaz/data/blob/master/marriage/both_sexes.csv\"\n",
    "    html = requests.get(url).content\n",
    "    df_list = pd.read_html(html, header = 0)\n",
    "    df = df_list[-1]\n",
    "    df.to_csv('mat.csv')\n",
    "else:\n",
    "    df = pd.read_csv(file)\n",
    "    \n",
    "file = 'div.csv'\n",
    "if not os.path.isfile(file):\n",
    "    url2 = \"https://github.com/resbaz/data/blob/master/marriage/divorce.csv\"\n",
    "    html2 = requests.get(url2).content\n",
    "    df_list = pd.read_html(html2, header = 0)\n",
    "    df = df_list[-1]\n",
    "    df.to_csv('div.csv')\n",
    "else:\n",
    "    df = pd.read_csv(file)\n",
    "    \n",
    "file = 'men.csv'\n",
    "if not os.path.isfile(file):\n",
    "    url3 = \"https://github.com/resbaz/data/blob/master/marriage/men.csv\"\n",
    "    html3 = requests.get(url3).content\n",
    "    df_list = pd.read_html(html3, header = 0)\n",
    "    df = df_list[-1]\n",
    "    df.to_csv('men.csv')\n",
    "else:\n",
    "    df = pd.read_csv(file)\n",
    "    \n",
    "file = 'women.csv'\n",
    "if not os.path.isfile(file):\n",
    "    url4 = \"https://github.com/resbaz/data/blob/master/marriage/women.csv\"\n",
    "    html4 = requests.get(url4).content\n",
    "    df_list = pd.read_html(html4, header = 0)\n",
    "    df = df_list[-1]\n",
    "    df.to_csv('women.csv')\n",
    "else:\n",
    "    df = pd.read_csv(file)\n"
   ]
  },
  {
   "cell_type": "code",
   "execution_count": 68,
   "metadata": {},
   "outputs": [],
   "source": [
    "#Ahora las preparo para poder trabajar con ellas\n",
    "\n",
    "matrimonios = pd.read_csv('mat.csv')\n",
    "divorcios = pd.read_csv('div.csv')\n",
    "hombres = pd.read_csv('men.csv')\n",
    "mujeres = pd.read_csv('women.csv')"
   ]
  },
  {
   "cell_type": "raw",
   "metadata": {},
   "source": [
    "PREGUNTA 2: Comparar matrimonios con clase social."
   ]
  },
  {
   "cell_type": "code",
   "execution_count": 94,
   "metadata": {},
   "outputs": [
    {
     "name": "stdout",
     "output_type": "stream",
     "text": [
      "Índice promedio poor: 0.19411425354336984\n",
      "Índice promedio mid: 0.08352311128543144\n",
      "Índice promedio rich: 0.05107358895217569\n",
      "       poor_4554   mid_4554  rich_4554\n",
      "count  17.000000  17.000000  17.000000\n",
      "mean    0.194114   0.083523   0.051074\n",
      "std     0.058719   0.026602   0.019261\n",
      "min     0.100301   0.038303   0.028573\n",
      "25%     0.171898   0.070557   0.031432\n",
      "50%     0.201348   0.085769   0.051429\n",
      "75%     0.245578   0.105049   0.069238\n",
      "max     0.263365   0.118527   0.079086\n"
     ]
    },
    {
     "data": {
      "image/png": "[encoded data removed]",
      "text/plain": [
       "<Figure size 432x288 with 1 Axes>"
      ]
     },
     "metadata": {
      "needs_background": "light"
     },
     "output_type": "display_data"
    }
   ],
   "source": [
    "#Para esta pregunta utilzo la tabla de matrimonios y las comlumnas correspondientes a identificar la clase social\n",
    "#poor_4554, ingresos familiares en el 25% más bajo. mid_4554, Ingresos familiares en medio 50%. rich_4554, Ingresos familiares en el 25% superior.\n",
    "\n",
    "#Extraigo los datos que me interesan de la tabla matrimonios\n",
    "valores = matrimonios[[\"year\", \"poor_4554\", \"mid_4554\", \"rich_4554\"]]\n",
    "#print(valores)\n",
    "\n",
    "#En el eje x está el año; en el eje y está el índice de matrimonios, divididos por colores según la clases social.\n",
    "valores.plot( x = 'year', y = ['poor_4554','mid_4554', 'rich_4554'], kind=\"bar\")\n",
    "\n",
    "#Si queremos comparar el ínidce a través del promedio entre los años.\n",
    "mean_df = df['poor_4554'].mean()\n",
    "print(\"Índice promedio poor:\",mean_df)\n",
    "\n",
    "mean_df2 = df['mid_4554'].mean()\n",
    "print(\"Índice promedio mid:\",mean_df2)\n",
    "\n",
    "mean_df3 = df['rich_4554'].mean()\n",
    "print(\"Índice promedio rich:\",mean_df3)\n",
    "\n",
    "\n",
    "#Con la siguiente instrucción tenemos una maor descrición de los datos. \n",
    "#Se usa la misma forma para extraer los datos que nos interesan, pero definí otra función \"valores\" porque el análisis de la columna 'year' no sirve para nada.\n",
    "datos=matrimonios[[\"poor_4554\", \"mid_4554\", \"rich_4554\"]]\n",
    "df = pd.DataFrame(datos)\n",
    "print(df.describe())\n",
    "\n"
   ]
  },
  {
   "cell_type": "raw",
   "metadata": {},
   "source": [
    "PREGUNTA 3: Comparar número de matrimonios/divorcios con el nivel escolar."
   ]
  },
  {
   "cell_type": "code",
   "execution_count": 96,
   "metadata": {},
   "outputs": [
    {
     "name": "stdout",
     "output_type": "stream",
     "text": [
      "       poor_4554   mid_4554  rich_4554\n",
      "count  17.000000  17.000000  17.000000\n",
      "mean    0.194114   0.083523   0.051074\n",
      "std     0.058719   0.026602   0.019261\n",
      "min     0.100301   0.038303   0.028573\n",
      "25%     0.171898   0.070557   0.031432\n",
      "50%     0.201348   0.085769   0.051429\n",
      "75%     0.245578   0.105049   0.069238\n",
      "max     0.263365   0.118527   0.079086\n"
     ]
    },
    {
     "data": {
      "image/png": "[encoded data removed]",
      "text/plain": [
       "<Figure size 432x288 with 1 Axes>"
      ]
     },
     "metadata": {
      "needs_background": "light"
     },
     "output_type": "display_data"
    }
   ],
   "source": [
    "#Nuevamente iniciamos extrayendo los datos que nos interesan\n",
    "#HS\tHigh school graduate or less (EDUCD < 65), SC\tSome college (EDUCD >= 65 & <= 100), BAp\tBachelor's degree or more (EDUCD > 100)\n",
    "nivelescolar=matrimonios[[\"year\", \"HS_3544\", \"SC_3544\", \"BAp_3544\", \"BAo_3544\"]]\n",
    "#En el eje x está el año; en el eje y está el índice de matrimonios, divididos por colores según la clases social.\n",
    "nivelescolar.plot( x = 'year', y = ['HS_3544', 'SC_3544', 'BAp_3544', 'BAo_3544'], kind=\"bar\")\n",
    "\n",
    "nivelescolar2=matrimonios[[\"poor_4554\", \"mid_4554\", \"rich_4554\"]]\n",
    "df = pd.DataFrame(nivelescolar2)\n",
    "print(df.describe())"
   ]
  },
  {
   "cell_type": "code",
   "execution_count": 97,
   "metadata": {},
   "outputs": [
    {
     "name": "stdout",
     "output_type": "stream",
     "text": [
      "       poor_4554   mid_4554  rich_4554\n",
      "count  17.000000  17.000000  17.000000\n",
      "mean    0.345447   0.133387   0.050413\n",
      "std     0.108419   0.045893   0.016453\n",
      "min     0.075373   0.029337   0.021233\n",
      "25%     0.382135   0.142242   0.042694\n",
      "50%     0.391199   0.150802   0.046089\n",
      "75%     0.406765   0.157969   0.066710\n",
      "max     0.410069   0.174465   0.070381\n"
     ]
    },
    {
     "data": {
      "image/png": "[encoded data removed]",
      "text/plain": [
       "<Figure size 432x288 with 1 Axes>"
      ]
     },
     "metadata": {
      "needs_background": "light"
     },
     "output_type": "display_data"
    }
   ],
   "source": [
    "#Ahora siguendo con el nivel escolar pero con la tabla de divorcios\n",
    "nivelescolardiv=divorcios[[\"year\", \"HS_3544\", \"SC_3544\", \"BAp_3544\", \"BAo_3544\"]]\n",
    "#En el eje x está el año; en el eje y está el índice de matrimonios, divididos por colores según la clases social.\n",
    "nivelescolardiv.plot( x = 'year', y = ['HS_3544', 'SC_3544', 'BAp_3544', 'BAo_3544'], kind=\"bar\")\n",
    "\n",
    "nivelescolardiv2=divorcios[[\"poor_4554\", \"mid_4554\", \"rich_4554\"]]\n",
    "df = pd.DataFrame(nivelescolardiv2)\n",
    "print(df.describe())"
   ]
  },
  {
   "cell_type": "raw",
   "metadata": {},
   "source": [
    "PREGUNTA 5. Comparar matrimonios por raza. "
   ]
  },
  {
   "cell_type": "code",
   "execution_count": 99,
   "metadata": {},
   "outputs": [
    {
     "name": "stdout",
     "output_type": "stream",
     "text": [
      "       White_2534  Black_2534  Hisp_2534\n",
      "count   17.000000   17.000000  17.000000\n",
      "mean     0.325888    0.531641   0.346570\n",
      "std      0.104138    0.162356   0.109553\n",
      "min      0.116485    0.162186   0.129877\n",
      "25%      0.312715    0.514499   0.318068\n",
      "50%      0.330628    0.572402   0.348579\n",
      "75%      0.398280    0.643109   0.428650\n",
      "max      0.453990    0.684709   0.487403\n"
     ]
    },
    {
     "data": {
      "image/png": "[encoded data removed]",
      "text/plain": [
       "<Figure size 432x288 with 1 Axes>"
      ]
     },
     "metadata": {
      "needs_background": "light"
     },
     "output_type": "display_data"
    }
   ],
   "source": [
    "raza= matrimonios[[\"year\", \"White_2534\", \"Black_2534\", \"Hisp_2534\"]]\n",
    "#En el eje x está el año; en el eje y está el índice de matrimonios, divididos por colores según la clases social.\n",
    "raza.plot( x = 'year', y = ['White_2534', 'Black_2534', 'Hisp_2534'], kind=\"bar\")\n",
    "\n",
    "raza=matrimonios[['White_2534', 'Black_2534', 'Hisp_2534']]\n",
    "df = pd.DataFrame(raza)\n",
    "print(df.describe())"
   ]
  },
  {
   "cell_type": "raw",
   "metadata": {},
   "source": [
    "PREGUNTA 8. Comparar matrimonios por situación laboral."
   ]
  },
  {
   "cell_type": "code",
   "execution_count": 102,
   "metadata": {},
   "outputs": [
    {
     "name": "stdout",
     "output_type": "stream",
     "text": [
      "       work_2534  nowork_2534\n",
      "count  17.000000    17.000000\n",
      "mean    0.362895     0.271465\n",
      "std     0.079225     0.106672\n",
      "min     0.211269     0.050536\n",
      "25%     0.332377     0.255212\n",
      "50%     0.364151     0.283997\n",
      "75%     0.419434     0.339411\n",
      "max     0.466745     0.406574\n"
     ]
    },
    {
     "data": {
      "image/png": "[encoded data removed]",
      "text/plain": [
       "<Figure size 432x288 with 1 Axes>"
      ]
     },
     "metadata": {
      "needs_background": "light"
     },
     "output_type": "display_data"
    }
   ],
   "source": [
    "#work\tEmployed 50+ weeks prior year. nowork\tNot employed at least 50 weeks prior year\n",
    "slab= mujeres[[\"year\", \"work_2534\", \"nowork_2534\"]]\n",
    "#En el eje x está el año; en el eje y está el índice de matrimonios, divididos por colores según la clases social.\n",
    "slab.plot( x = 'year', y = ['work_2534', 'nowork_2534'], kind=\"bar\")\n",
    "\n",
    "slab2=mujeres[['work_2534', 'nowork_2534']]\n",
    "df = pd.DataFrame(slab2)\n",
    "print(df.describe())"
   ]
  },
  {
   "cell_type": "raw",
   "metadata": {},
   "source": [
    "Ahora pasamos a las preguntas que reuqieren diferentes datos de diferentes tablas."
   ]
  },
  {
   "cell_type": "raw",
   "metadata": {},
   "source": [
    "PREGUNTA 1. ¿Cómo es el índice de divorcios contra el de matrimonios?"
   ]
  },
  {
   "cell_type": "code",
   "execution_count": 108,
   "metadata": {},
   "outputs": [],
   "source": [
    "mat3544= matrimonios.pivot_table('all_3544', index='year')\n",
    "div3544= divorcios.pivot_table('all_3544', index='year')"
   ]
  },
  {
   "cell_type": "code",
   "execution_count": 119,
   "metadata": {},
   "outputs": [
    {
     "data": {
      "text/plain": [
       "<AxesSubplot:xlabel='year'>"
      ]
     },
     "execution_count": 119,
     "metadata": {},
     "output_type": "execute_result"
    },
    {
     "data": {
      "image/png": "[encoded data removed]",
      "text/plain": [
       "<Figure size 432x288 with 1 Axes>"
      ]
     },
     "metadata": {
      "needs_background": "light"
     },
     "output_type": "display_data"
    }
   ],
   "source": [
    "merged = pd.merge(mat3544, div3544, how='outer',\n",
    "                  left_on='year', right_on='year')\n",
    "#merged = merged.drop('Edo', 1) # drop duplicate info\n",
    "#merged.head()\n",
    "\n",
    "matvsdiv= merged[[ \"all_3544_x\", \"all_3544_y\"]]\n",
    "\n",
    "matvsdiv.plot(y = ['all_3544_x', 'all_3544_y'], kind=\"bar\")\n",
    "\n",
    "\n",
    "#raza=matrimonios[['White_2534', 'Black_2534', 'Hisp_2534']]\n",
    "#df = pd.DataFrame(raza)\n",
    "#print(df.describe())"
   ]
  },
  {
   "cell_type": "raw",
   "metadata": {},
   "source": [
    "PREGUNTA 4. Comparar hombres contra mujeres."
   ]
  },
  {
   "cell_type": "code",
   "execution_count": 120,
   "metadata": {},
   "outputs": [],
   "source": [
    "man= hombres.pivot_table('all_2534', index='year')\n",
    "wom= mujeres.pivot_table('all_2534', index='year')"
   ]
  },
  {
   "cell_type": "code",
   "execution_count": 121,
   "metadata": {},
   "outputs": [
    {
     "data": {
      "text/plain": [
       "<AxesSubplot:xlabel='year'>"
      ]
     },
     "execution_count": 121,
     "metadata": {},
     "output_type": "execute_result"
    },
    {
     "data": {
      "image/png": "[encoded data removed]",
      "text/plain": [
       "<Figure size 432x288 with 1 Axes>"
      ]
     },
     "metadata": {
      "needs_background": "light"
     },
     "output_type": "display_data"
    }
   ],
   "source": [
    "manwom = pd.merge(man, wom, how='outer',\n",
    "                  left_on='year', right_on='year')\n",
    "#merged = merged.drop('Edo', 1) # drop duplicate info\n",
    "#merged.head()\n",
    "\n",
    "homvsmuj= manwom[[ \"all_2534_x\", \"all_2534_y\"]]\n",
    "\n",
    "homvsmuj.plot(y = ['all_2534_x', 'all_2534_y'], kind=\"bar\")\n",
    "\n",
    "\n",
    "#raza=matrimonios[['White_2534', 'Black_2534', 'Hisp_2534']]\n",
    "#df = pd.DataFrame(raza)\n",
    "#print(df.describe())"
   ]
  },
  {
   "cell_type": "raw",
   "metadata": {},
   "source": [
    "PREGUNTA 6: Más bodas, menos bodas, más divorcios, menos divorcios."
   ]
  },
  {
   "cell_type": "code",
   "execution_count": 126,
   "metadata": {},
   "outputs": [
    {
     "name": "stdout",
     "output_type": "stream",
     "text": [
      "       all_3544_x  all_3544_y\n",
      "count   17.000000   17.000000\n",
      "mean     0.159182    0.141895\n",
      "std      0.050486    0.040069\n",
      "min      0.067325    0.034445\n",
      "25%      0.156059    0.152920\n",
      "50%      0.165159    0.156841\n",
      "75%      0.198419    0.161159\n",
      "max      0.216017    0.166303\n"
     ]
    },
    {
     "data": {
      "text/plain": [
       "all_3544_x    0.067325\n",
       "all_3544_y    0.034445\n",
       "dtype: float64"
      ]
     },
     "execution_count": 126,
     "metadata": {},
     "output_type": "execute_result"
    }
   ],
   "source": [
    "#Para esta pregunta no graficamos podemos pedir directamente de la tabla los datos requeridos.\n",
    "#Y usamos la tabla fusionada de matrimonios y divorcios que se creó en la pregunta 1.\n",
    "\n",
    "df = pd.DataFrame(matvsdiv)\n",
    "print(df.describe())\n",
    "\n",
    "matvsdiv.min()\n"
   ]
  },
  {
   "cell_type": "code",
   "execution_count": null,
   "metadata": {},
   "outputs": [],
   "source": []
  }
 ],
 "metadata": {
  "kernelspec": {
   "display_name": "Python 3",
   "language": "python",
   "name": "python3"
  },
  "language_info": {
   "codemirror_mode": {
    "name": "ipython",
    "version": 3
   },
   "file_extension": ".py",
   "mimetype": "text/x-python",
   "name": "python",
   "nbconvert_exporter": "python",
   "pygments_lexer": "ipython3",
   "version": "3.8.5"
  }
 },
 "nbformat": 4,
 "nbformat_minor": 4
}
