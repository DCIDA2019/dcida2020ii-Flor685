{
 "cells": [
  {
   "cell_type": "code",
   "execution_count": 66,
   "metadata": {},
   "outputs": [],
   "source": [
    "import os\n",
    "import requests\n",
    "import pandas as pd\n",
    "import matplotlib.pyplot as plt\n",
    "import seaborn as sns"
   ]
  },
  {
   "cell_type": "code",
   "execution_count": 67,
   "metadata": {},
   "outputs": [],
   "source": [
    "#primero descargo las tablas de la dirección url donde se encuentran\n",
    "\n",
    "file = 'mat.csv'\n",
    "if not os.path.isfile(file):\n",
    "    url = \"https://github.com/resbaz/data/blob/master/marriage/both_sexes.csv\"\n",
    "    html = requests.get(url).content\n",
    "    df_list = pd.read_html(html, header = 0)\n",
    "    df = df_list[-1]\n",
    "    df.to_csv('mat.csv')\n",
    "else:\n",
    "    df = pd.read_csv(file)\n",
    "    \n",
    "file = 'div.csv'\n",
    "if not os.path.isfile(file):\n",
    "    url2 = \"https://github.com/resbaz/data/blob/master/marriage/divorce.csv\"\n",
    "    html2 = requests.get(url2).content\n",
    "    df_list = pd.read_html(html2, header = 0)\n",
    "    df = df_list[-1]\n",
    "    df.to_csv('div.csv')\n",
    "else:\n",
    "    df = pd.read_csv(file)\n",
    "    \n",
    "file = 'men.csv'\n",
    "if not os.path.isfile(file):\n",
    "    url3 = \"https://github.com/resbaz/data/blob/master/marriage/men.csv\"\n",
    "    html3 = requests.get(url3).content\n",
    "    df_list = pd.read_html(html3, header = 0)\n",
    "    df = df_list[-1]\n",
    "    df.to_csv('men.csv')\n",
    "else:\n",
    "    df = pd.read_csv(file)\n",
    "    \n",
    "file = 'women.csv'\n",
    "if not os.path.isfile(file):\n",
    "    url4 = \"https://github.com/resbaz/data/blob/master/marriage/women.csv\"\n",
    "    html4 = requests.get(url4).content\n",
    "    df_list = pd.read_html(html4, header = 0)\n",
    "    df = df_list[-1]\n",
    "    df.to_csv('women.csv')\n",
    "else:\n",
    "    df = pd.read_csv(file)\n"
   ]
  },
  {
   "cell_type": "code",
   "execution_count": 68,
   "metadata": {},
   "outputs": [],
   "source": [
    "#Ahora las preparo para poder trabajar con ellas\n",
    "\n",
    "matrimonios = pd.read_csv('mat.csv')\n",
    "divorcios = pd.read_csv('div.csv')\n",
    "hombres = pd.read_csv('men.csv')\n",
    "mujeres = pd.read_csv('women.csv')"
   ]
  },
  {
   "cell_type": "raw",
   "metadata": {},
   "source": [
    "PREGUNTA 2: Comparar matrimonios con clase social."
   ]
  },
  {
   "cell_type": "code",
   "execution_count": 94,
   "metadata": {},
   "outputs": [
    {
     "name": "stdout",
     "output_type": "stream",
     "text": [
      "Índice promedio poor: 0.19411425354336984\n",
      "Índice promedio mid: 0.08352311128543144\n",
      "Índice promedio rich: 0.05107358895217569\n",
      "       poor_4554   mid_4554  rich_4554\n",
      "count  17.000000  17.000000  17.000000\n",
      "mean    0.194114   0.083523   0.051074\n",
      "std     0.058719   0.026602   0.019261\n",
      "min     0.100301   0.038303   0.028573\n",
      "25%     0.171898   0.070557   0.031432\n",
      "50%     0.201348   0.085769   0.051429\n",
      "75%     0.245578   0.105049   0.069238\n",
      "max     0.263365   0.118527   0.079086\n"
     ]
    },
    {
     "data": {
      "image/png": "[encoded data removed]",
      "text/plain": [
       "<Figure size 432x288 with 1 Axes>"
      ]
     },
     "metadata": {
      "needs_background": "light"
     },
     "output_type": "display_data"
    }
   ],
   "source": [
    "#Para esta pregunta utilzo la tabla de matrimonios y las comlumnas correspondientes a identificar la clase social\n",
    "#poor_4554, ingresos familiares en el 25% más bajo. mid_4554, Ingresos familiares en medio 50%. rich_4554, Ingresos familiares en el 25% superior.\n",
    "\n",
    "#Extraigo los datos que me interesan de la tabla matrimonios\n",
    "valores = matrimonios[[\"year\", \"poor_4554\", \"mid_4554\", \"rich_4554\"]]\n",
    "#print(valores)\n",
    "\n",
    "#En el eje x está el año; en el eje y está el índice de matrimonios, divididos por colores según la clases social.\n",
    "valores.plot( x = 'year', y = ['poor_4554','mid_4554', 'rich_4554'], kind=\"bar\")\n",
    "\n",
    "#Si queremos comparar el ínidce a través del promedio entre los años.\n",
    "mean_df = df['poor_4554'].mean()\n",
    "print(\"Índice promedio poor:\",mean_df)\n",
    "\n",
    "mean_df2 = df['mid_4554'].mean()\n",
    "print(\"Índice promedio mid:\",mean_df2)\n",
    "\n",
    "mean_df3 = df['rich_4554'].mean()\n",
    "print(\"Índice promedio rich:\",mean_df3)\n",
    "\n",
    "\n",
    "#Con la siguiente instrucción tenemos una maor descrición de los datos. \n",
    "#Se usa la misma forma para extraer los datos que nos interesan, pero definí otra función \"valores\" porque el análisis de la columna 'year' no sirve para nada.\n",
    "datos=matrimonios[[\"poor_4554\", \"mid_4554\", \"rich_4554\"]]\n",
    "df = pd.DataFrame(datos)\n",
    "print(df.describe())\n",
    "\n"
   ]
  },
  {
   "cell_type": "raw",
   "metadata": {},
   "source": [
    "PREGUNTA 3: Comparar número de matrimonios/divorcios con el nivel escolar."
   ]
  },
  {
   "cell_type": "code",
   "execution_count": null,
   "metadata": {},
   "outputs": [],
   "source": []
  }
 ],
 "metadata": {
  "kernelspec": {
   "display_name": "Python 3",
   "language": "python",
   "name": "python3"
  },
  "language_info": {
   "codemirror_mode": {
    "name": "ipython",
    "version": 3
   },
   "file_extension": ".py",
   "mimetype": "text/x-python",
   "name": "python",
   "nbconvert_exporter": "python",
   "pygments_lexer": "ipython3",
   "version": "3.8.5"
  }
 },
 "nbformat": 4,
 "nbformat_minor": 4
}
