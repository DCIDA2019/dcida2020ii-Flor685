{
 "cells": [
  {
   "cell_type": "code",
   "execution_count": 3,
   "metadata": {},
   "outputs": [
    {
     "data": {
      "text/plain": [
       "array([[ 0.59677897,  0.9210494 ,  1.15618395,  1.75451756,  1.8249173 ,\n",
       "         2.26851454,  2.28263231,  2.50455365,  2.86139335,  2.93714046,\n",
       "         3.12261223,  3.17285482,  3.22958914,  3.43178016,  3.61788656,\n",
       "         3.92117518,  3.98044255,  4.14826212,  4.2310646 ,  4.2583029 ,\n",
       "         4.26351307,  4.30862763,  4.33701173,  4.38572245,  4.80931901,\n",
       "         4.83034264,  4.93685098,  5.01836676,  5.19485119,  5.31551374,\n",
       "         5.31827587,  5.51314769,  6.11023511,  6.12894526,  6.23952952,\n",
       "         6.30976124,  6.34400959,  6.84829739,  6.96469186,  7.1946897 ,\n",
       "         7.22443383,  7.24455325,  7.29049707,  7.37995406,  8.49431794,\n",
       "         8.66309158,  8.93389163,  9.44160018,  9.80764198,  9.85559786],\n",
       "       [ 8.11257148,  3.52815075,  4.81023356,  0.89238164,  3.13295195,\n",
       "         3.53338034,  1.89933975,  2.83896349,  0.89713921,  0.9500022 ,\n",
       "         1.45700044,  1.05318568,  1.71011605,  0.06780647,  0.40019114,\n",
       "         1.00444563, -0.02239716,  0.35714018,  0.36639252, -0.20377166,\n",
       "         0.4535501 , -0.05481938,  0.11108328,  0.05408497, -0.4312348 ,\n",
       "         0.03066613,  0.04872262, -0.60437665, -0.92605578, -1.43906426,\n",
       "         0.05799768, -2.19399769, -2.19477287, -2.07585727, -1.99984962,\n",
       "        -1.01857516, -0.14032142, -2.42545494, -1.27448771, -2.09526812,\n",
       "        -2.14633492, -3.37270574, -4.11273068, -3.72061886, -4.85942793,\n",
       "        -3.4872956 , -2.6354799 , -4.70700707, -6.73600298, -0.44957541],\n",
       "       [ 0.16031433,  0.5131704 ,  0.40153006,  0.372534  ,  0.27138192,\n",
       "         0.25206039,  0.30851111,  0.44065038,  0.53772842,  0.35521117,\n",
       "         0.43465689,  0.39296828,  0.41245175,  0.43734453,  0.52117122,\n",
       "         0.14159749,  0.48184142,  0.22183319,  0.19711148,  0.38622848,\n",
       "         0.14785626,  0.54266341,  0.41362449,  0.46170818,  0.1080646 ,\n",
       "         0.39721594,  0.3783926 ,  0.17947982,  0.17653526,  0.44776476,\n",
       "         0.25938321,  0.44598515,  0.37719162,  0.29447529,  0.56256624,\n",
       "         0.520835  ,  0.27869878,  0.12179573,  0.25238404,  0.29909284,\n",
       "         0.45247942,  0.59767924,  0.27795743,  0.48127391,  0.39658846,\n",
       "         0.4458509 ,  0.17556373,  0.29943815,  0.22042795,  0.27172801]])"
      ]
     },
     "execution_count": 3,
     "metadata": {},
     "output_type": "execute_result"
    }
   ],
   "source": [
    "import numpy as np\n",
    "np.load('fit_exercise.npy')"
   ]
  },
  {
   "cell_type": "code",
   "execution_count": 16,
   "metadata": {},
   "outputs": [
    {
     "data": {
      "image/png": "[encoded data removed]",
      "text/plain": [
       "<Figure size 432x288 with 1 Axes>"
      ]
     },
     "metadata": {
      "needs_background": "light"
     },
     "output_type": "display_data"
    }
   ],
   "source": [
    "import matplotlib.pyplot as plt \n",
    "(x,y,error) = np.load('fit_exercise.npy') \n",
    "\n",
    "plt.plot(x,y,'o')\n",
    "plt.errorbar(x,y,error,color='red', fmt='_')\n",
    "plt.show()"
   ]
  },
  {
   "cell_type": "code",
   "execution_count": null,
   "metadata": {},
   "outputs": [],
   "source": []
  }
 ],
 "metadata": {
  "kernelspec": {
   "display_name": "Python 3",
   "language": "python",
   "name": "python3"
  },
  "language_info": {
   "codemirror_mode": {
    "name": "ipython",
    "version": 3
   },
   "file_extension": ".py",
   "mimetype": "text/x-python",
   "name": "python",
   "nbconvert_exporter": "python",
   "pygments_lexer": "ipython3",
   "version": "3.8.5"
  }
 },
 "nbformat": 4,
 "nbformat_minor": 4
}
