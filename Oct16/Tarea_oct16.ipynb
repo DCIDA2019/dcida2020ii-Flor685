{
 "cells": [
  {
   "cell_type": "markdown",
   "metadata": {},
   "source": [
    "$\\textbf{***Derive Bayes theorem from p(x,y)=p(y,x) }$\n",
    "\n",
    "\n"
   ]
  },
  {
   "cell_type": "markdown",
   "metadata": {},
   "source": [
    "El teorema de Bayes\n",
    "$$ p(y|x)=\\frac{p(x|y)p(y)}{p(y)} $$\n",
    "___________________________________________________"
   ]
  },
  {
   "cell_type": "markdown",
   "metadata": {},
   "source": [
    "Tenemos $$ p(y|x)=\\frac{p(y\\cap x)}{p(x)} $$\n",
    "de igual forma $$ p(x|y)=\\frac{p(x\\cap y)}{p(y)} $$\n",
    "pero $ p(x\\cap y)=p(y\\cap x) $, entonces:\n",
    "$$ p(y|x)p(x)=p(x|y)p(y) $$ \n",
    "Por lo tanto:\n",
    "$$ p(y|x)=\\frac{p(x|y)p(y)}{p(x)} $$"
   ]
  },
  {
   "cell_type": "markdown",
   "metadata": {},
   "source": [
    "$\\textbf{***Las catafixias de Chabelo }$"
   ]
  },
  {
   "cell_type": "markdown",
   "metadata": {},
   "source": [
    "Cambiaría de catafixia. Anlizando desde el teorema de Bayes. \n",
    "Suponemos que hemos elegido abrir la puerta uno inicialmente.\n",
    "Calculemos las probablilidades de ganar si nos quedamos con la primera puerta y si cambiamos a la segunda.\n",
    "\n",
    "Sea $p(P1)=1/3$ la probabilidad de encontrar un premio en la puerta uno (la primera elección). \n",
    "\n",
    "Denotemos la probabilidad de que chabelo abra la puerta dos o la puerta tres sabiendo dónde está el premio $p(A1)$, $p(A2)$\n",
    "\n",
    "Las probalilidades de que el premio esté en la puerta uno dado de elige abrir la puerta 2 y la puerta tres, respectivamente:\n",
    "$$ p(P1|A2)=\\frac{p(A2|P1)p(P1)}{p(A2)}$$\n",
    "$$ p(P1|A3)=\\frac{p(A3|P1)p(P1)}{p(A3)}$$\n",
    "\n",
    "Las probabilidades de que el premio se encuentre en una puerta diferente a la 1 (chabelo no puede abrir la puerta 1):\n",
    "$$ p(P2|A3)=\\frac{p(A3|P2)p(P2)}{p(A3)}$$\n",
    "$$ p(P3|A2)=\\frac{p(A2|P3)p(P3)}{p(A2)}$$"
   ]
  },
  {
   "cell_type": "markdown",
   "metadata": {},
   "source": [
    "Nos queda calcular las probablidades pedidas:\n",
    "$p(A2|P1)=p(A3|P1)=1/2$, $p(A3|P2)=p(A2|P3)=1$\n",
    "\n",
    "$p(A2)=p(A3)=1/2$, y sustituímos en las expresiones para el tma de Bayes."
   ]
  },
  {
   "cell_type": "markdown",
   "metadata": {},
   "source": [
    "La probabilidad de ganar quedándonos en la misma puerta es:\n",
    "$$ p(P1|A2)=\\frac{\\frac{1}{2} \\frac{1}{3}}{\\frac{1}{2}}= \\frac{1}{3}$$\n",
    "$$ p(P1|A3)=\\frac{1}{3}$$\n"
   ]
  },
  {
   "cell_type": "markdown",
   "metadata": {},
   "source": [
    "La probablilad de canar cambiando de puerta:\n",
    "$$ p(P2|A3)=\\frac{1.\\frac{1}{3}}{\\frac{1}{2}}=\\frac{2}{3}$$\n",
    "$$ p(P3|A2)=\\frac{2}{3}$$"
   ]
  },
  {
   "cell_type": "code",
   "execution_count": null,
   "metadata": {},
   "outputs": [],
   "source": []
  }
 ],
 "metadata": {
  "kernelspec": {
   "display_name": "Python 3",
   "language": "python",
   "name": "python3"
  },
  "language_info": {
   "codemirror_mode": {
    "name": "ipython",
    "version": 3
   },
   "file_extension": ".py",
   "mimetype": "text/x-python",
   "name": "python",
   "nbconvert_exporter": "python",
   "pygments_lexer": "ipython3",
   "version": "3.8.5"
  }
 },
 "nbformat": 4,
 "nbformat_minor": 4
}
