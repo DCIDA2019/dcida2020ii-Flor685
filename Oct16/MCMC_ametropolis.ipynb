{
 "cells": [
  {
   "cell_type": "code",
   "execution_count": 38,
   "metadata": {},
   "outputs": [],
   "source": [
    "import numpy as np \n",
    "import pandas as pd\n",
    "import matplotlib.pyplot as plt\n",
    "import scipy.stats"
   ]
  },
  {
   "cell_type": "code",
   "execution_count": 47,
   "metadata": {},
   "outputs": [
    {
     "name": "stdout",
     "output_type": "stream",
     "text": [
      "6.622687962616162\n"
     ]
    },
    {
     "data": {
      "image/png": "[encoded data removed]",
      "text/plain": [
       "<Figure size 432x288 with 1 Axes>"
      ]
     },
     "metadata": {
      "needs_background": "light"
     },
     "output_type": "display_data"
    }
   ],
   "source": [
    "#Llamamos los datos que queremos ajustar:\n",
    "np.load('fit_exercise.npy')       \n",
    "(x,y,error) = np.load('fit_exercise.npy')\n",
    "\n",
    "#x=np.array([0,1,2,3,4])\n",
    "#y=np.array([0,0.5,1,1.5,2])\n",
    "\n",
    "#La varinza de y (el eje vertical) está dada por sigma\n",
    "sigma=np.var(y)\n",
    "\n",
    "plt.scatter(x, y, color='blue')\n",
    "\n",
    "print(sigma)"
   ]
  },
  {
   "cell_type": "code",
   "execution_count": 51,
   "metadata": {},
   "outputs": [
    {
     "name": "stdout",
     "output_type": "stream",
     "text": [
      "[ 4.54856943 -0.97619482]\n"
     ]
    },
    {
     "data": {
      "image/png": "[encoded data removed]",
      "text/plain": [
       "<Figure size 432x288 with 2 Axes>"
      ]
     },
     "metadata": {
      "needs_background": "light"
     },
     "output_type": "display_data"
    }
   ],
   "source": [
    "#Definimos un prior plano:\n",
    "def prior():\n",
    "    if sigma <= 0:\n",
    "        return 0.0\n",
    "    return 1\n",
    "\n",
    "#Para el likelihood, usamos la distribución Gaussiana, como es requerido en el algoritmo metrópolis\n",
    "#Trabajamos con logaritmos de las cantidades. La intersección de la recta es a, la pendiente es b.\n",
    "def likelihood(beta):\n",
    "    a = beta[0]     # intersección\n",
    "    b = beta[1]     # pendiente\n",
    "    #El modelo a los que ajustaremos los datos está dado por y_modelo\n",
    "    y_modelo = a  + b * x\n",
    "    likelihoods=-0.5*np.sum(np.log(2*np.pi*sigma**2)+(y-y_modelo)**2/(sigma**2))\n",
    "    return likelihoods\n",
    "\n",
    "#Formamos el posterior a partir del prior y el likelihood\n",
    "def posterior(beta):\n",
    "    return likelihood(beta) - np.log(prior())\n",
    "\n",
    "\n",
    "#Saltamos entre parámetros con una función gaussiana centrada en los parámetros\n",
    "def funcion(beta):\n",
    "    a = beta[0]\n",
    "    b = beta[1]\n",
    "    a_new = np.random.normal(a, 0.5)\n",
    "    b_new = np.random.normal(b, 0.5)\n",
    "    beta_new = [a_new, b_new]\n",
    "    return beta_new\n",
    "\n",
    "#Ejecutamos el algoritmo\n",
    "beta_0 = [0.5, 0.5]        # valores iniciales de los parámetros\n",
    "resultados = np.zeros([50000,2])            # arreglo para registrar los resultados\n",
    "resultados[0,0] = beta_0[0]\n",
    "resultados[0, 1] = beta_0[1]\n",
    "for step in range(1, 50000):               #  50000 veces\n",
    "\n",
    "    beta_old = resultados[step-1, :]\n",
    "    beta_prop = funcion(beta_old)\n",
    "\n",
    "    prob = np.exp(posterior(beta_prop) - posterior(beta_old))\n",
    "\n",
    "    if np.random.uniform(0,1) < prob:\n",
    "        resultados[step, :] = beta_prop    \n",
    "    else:\n",
    "        resultados[step, :] = beta_old         \n",
    "\n",
    "burn_in = 10000\n",
    "beta_posterior = resultados[burn_in:, :]\n",
    "print(beta_posterior.mean(axis=0))\n",
    "\n",
    "fig = plt.figure()\n",
    "ax1 = fig.add_subplot(121)\n",
    "ax1.hist(beta_posterior[:,0], bins=20, color='blue')\n",
    "ax1.axvline(beta_posterior.mean(axis=0)[0], color='red', linestyle='dashed', linewidth=2)\n",
    "ax1.title.set_text('Intersección')\n",
    "ax2 = fig.add_subplot(122)\n",
    "ax2.hist(beta_posterior[:,1], bins=20, color='blue')\n",
    "ax2.axvline(beta_posterior.mean(axis=0)[1], color='red', linestyle='dashed', linewidth=2)\n",
    "ax2.title.set_text('Pendiente')\n",
    "plt.show()"
   ]
  },
  {
   "cell_type": "code",
   "execution_count": null,
   "metadata": {},
   "outputs": [],
   "source": []
  }
 ],
 "metadata": {
  "kernelspec": {
   "display_name": "Python 3",
   "language": "python",
   "name": "python3"
  },
  "language_info": {
   "codemirror_mode": {
    "name": "ipython",
    "version": 3
   },
   "file_extension": ".py",
   "mimetype": "text/x-python",
   "name": "python",
   "nbconvert_exporter": "python",
   "pygments_lexer": "ipython3",
   "version": "3.8.5"
  }
 },
 "nbformat": 4,
 "nbformat_minor": 4
}
