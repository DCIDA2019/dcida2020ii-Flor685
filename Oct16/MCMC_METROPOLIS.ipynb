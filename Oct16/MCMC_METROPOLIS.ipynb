{
 "cells": [
  {
   "cell_type": "code",
   "execution_count": 2,
   "metadata": {},
   "outputs": [],
   "source": [
    "import numpy as np\n",
    "import pandas as pd\n",
    "import matplotlib.pyplot as plt\n",
    "import math\n",
    "from scipy.optimize import minimize\n",
    "import random"
   ]
  },
  {
   "cell_type": "code",
   "execution_count": 21,
   "metadata": {},
   "outputs": [],
   "source": [
    "#Llamamos los datos que ajustaremos\n",
    "np.load('fit_exercise.npy')       \n",
    "(x1,y1,error) = np.load('fit_exercise.npy') \n",
    "\n",
    "dt=np.load('fit_exercise.npy')\n"
   ]
  },
  {
   "cell_type": "code",
   "execution_count": 83,
   "metadata": {},
   "outputs": [],
   "source": [
    "#Queremos que nuestros datos se ajusten a un modelo de línea recta de la forma y=b*x+a, donde a y b son los parámetros\n",
    "def modelo(a, b, x):\n",
    "    ym= b*x+a\n",
    "    return ym"
   ]
  },
  {
   "cell_type": "code",
   "execution_count": 96,
   "metadata": {},
   "outputs": [],
   "source": [
    "#Definimos un likelihood con una función de probabilidad de muestra, en este caso la distribución gaussiana. V es la varianza de los datos\n",
    "def likelihood(x, y, v, a, b, modelo):\n",
    "        ymod=modelo(a,b,x)\n",
    "        return  (np.sqrt(2*math.pi*v**2))*np.exp(-np.sum((y-ymod)**2)/(2*v))\n",
    "    \n",
    "#La varianza está dada por \n",
    "v=np.var(y1)"
   ]
  },
  {
   "cell_type": "code",
   "execution_count": 106,
   "metadata": {},
   "outputs": [],
   "source": [
    "#Ahora procedemos con el algoritmo\n",
    "\n",
    "def MCM2(likelihood, a_0, b_0, x1, y1, N):\n",
    "\n",
    "    N=10000   #camtidad de iteraciones\n",
    "    av=np.zeros(N)   #vectores para guardar los datos\n",
    "    bv=np.zeros(N)\n",
    "#Los valores iniciales para los parámetros estarán dados por a_0 y b_0\n",
    "    av[0]=a_0\n",
    "    bv[0]=b_0\n",
    "    #cv[0]=p3\n",
    "    for k in range(N-1):\n",
    "        ak=np.random.normal(av[k], 0.2)\n",
    "        bk= np.random.normal(bv[k], 0.2)\n",
    "        #ck= np.random.normal(cv[k], 0.2)\n",
    "        posteriorold=likelihood(x1, y1, v, av[k], bv[k], modelo)\n",
    "        posteriornew=likelihood(x1, y1, v, ak, bk, modelo)\n",
    "        if posteriornew>posteriorold:\n",
    "            av[k+1]=ak\n",
    "            bv[k+1]=bk\n",
    "            #cv[k+1]=ck\n",
    "        elif posteriornew<=posteriorold:\n",
    "            ran = random.uniform(0, 1)\n",
    "            ratio=posteriornew/posteriorold\n",
    "            if ratio > ran:\n",
    "                av[k+1]=ak\n",
    "                bv[k+1]=bk\n",
    "                #cv[k+1]=ck\n",
    "            elif ratio <= ran:\n",
    "                av[k+1]=np.copy(av[k])\n",
    "                bv[k+1]=np.copy(bv[k])\n",
    "                #cv[k+1]=np.copy(cv[k])\n",
    "    return plt.plot(av, bv, 'o'), print('y = ', av.mean(), '+ (', bv.mean(),')x')"
   ]
  },
  {
   "cell_type": "code",
   "execution_count": 107,
   "metadata": {},
   "outputs": [
    {
     "name": "stdout",
     "output_type": "stream",
     "text": [
      "y =  4.7710723544316656 + ( -1.0154556119977323 )x\n"
     ]
    },
    {
     "data": {
      "text/plain": [
       "([<matplotlib.lines.Line2D at 0x25259a0efa0>], None)"
      ]
     },
     "execution_count": 107,
     "metadata": {},
     "output_type": "execute_result"
    },
    {
     "data": {
      "image/png": "[encoded data removed]",
      "text/plain": [
       "<Figure size 432x288 with 1 Axes>"
      ]
     },
     "metadata": {
      "needs_background": "light"
     },
     "output_type": "display_data"
    }
   ],
   "source": [
    "MCM2(likelihood, 3, 0, x1, y1, N)"
   ]
  },
  {
   "cell_type": "code",
   "execution_count": null,
   "metadata": {},
   "outputs": [],
   "source": []
  }
 ],
 "metadata": {
  "kernelspec": {
   "display_name": "Python 3",
   "language": "python",
   "name": "python3"
  },
  "language_info": {
   "codemirror_mode": {
    "name": "ipython",
    "version": 3
   },
   "file_extension": ".py",
   "mimetype": "text/x-python",
   "name": "python",
   "nbconvert_exporter": "python",
   "pygments_lexer": "ipython3",
   "version": "3.8.5"
  }
 },
 "nbformat": 4,
 "nbformat_minor": 4
}
