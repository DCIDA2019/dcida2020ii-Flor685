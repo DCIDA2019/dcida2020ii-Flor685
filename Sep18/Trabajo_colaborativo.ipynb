{
 "cells": [
  {
   "cell_type": "code",
   "execution_count": 1,
   "metadata": {},
   "outputs": [],
   "source": [
    "#######################################################################################\n",
    "#Código colaborativo de Diana Avendaño, Miguel Sánches, Flor Lozano y Salvador \n",
    "#Equipo 3, Laboratorio de análisis de datos. \n",
    "######################################################################################\n",
    "#%reset\n",
    "#--------------------------------------------------------------------\n",
    "#Librerias\n",
    "#--------------------------------------------------------------------\n",
    "import os\n",
    "import requests\n",
    "import pandas as pd\n",
    "import matplotlib.pyplot as plt\n",
    "import numpy as np"
   ]
  },
  {
   "cell_type": "code",
   "execution_count": 2,
   "metadata": {},
   "outputs": [],
   "source": [
    "#---------------------------------------------------------------------\n",
    "#Función que descarga tablas de páginas web\n",
    "#---------------------------------------------------------------------\n",
    "#descarga las tablas y las almacena en la variable cat\n",
    "def dow(url,cat):\n",
    "    \n",
    "    for i in range(len(url)):\n",
    "        html = requests.get(url[i]).content\n",
    "        x_list = pd.read_html(html,header=0)\n",
    "        x = x_list[0]\n",
    "        cat.append(x[4:]) #El cuatro indica que sólo queremos daos a aprtir del \n",
    "        #rengón 4 de nuestra tabla. Esto por conveniencia a nuestros datos."
   ]
  },
  {
   "cell_type": "code",
   "execution_count": 3,
   "metadata": {},
   "outputs": [],
   "source": [
    "#----------------------------------------------------------------------\n",
    "#Gráficos\n",
    "#-------------------------------------------------------------------\n",
    "\n",
    "#hace una grafica de barras comparandolas por años\n",
    "#what son las entradas de la tabla, name es el \"label\" de cada columna de nuestra tabla.\n",
    "def barritas(what,name):\n",
    "    \n",
    "    width=0.8/len(what)\n",
    "    fig, ax = plt.subplots()\n",
    "#     plt.figure(figsize=(15,8))\n",
    "    for i in range(len(what)):\n",
    "        ax.bar(cat[0]['year'] - width/2 + width*i, 100*what[i], width ,label=name[i])\n",
    "        \n",
    "#    plt.title(title)\n",
    "    plt.grid()\n",
    "    plt.legend()\n",
    "    plt.xlabel('Año')\n",
    "    plt.ylabel('% de la población')\n",
    "    plt.show()"
   ]
  },
  {
   "cell_type": "code",
   "execution_count": 4,
   "metadata": {},
   "outputs": [
    {
     "data": {
      "text/html": [
       "<div>\n",
       "<style scoped>\n",
       "    .dataframe tbody tr th:only-of-type {\n",
       "        vertical-align: middle;\n",
       "    }\n",
       "\n",
       "    .dataframe tbody tr th {\n",
       "        vertical-align: top;\n",
       "    }\n",
       "\n",
       "    .dataframe thead th {\n",
       "        text-align: right;\n",
       "    }\n",
       "</style>\n",
       "<table border=\"1\" class=\"dataframe\">\n",
       "  <thead>\n",
       "    <tr style=\"text-align: right;\">\n",
       "      <th></th>\n",
       "      <th>Header</th>\n",
       "      <th>Description</th>\n",
       "    </tr>\n",
       "  </thead>\n",
       "  <tbody>\n",
       "    <tr>\n",
       "      <th>0</th>\n",
       "      <td>all</td>\n",
       "      <td>Total (or all men/women in sex-specific files)</td>\n",
       "    </tr>\n",
       "    <tr>\n",
       "      <th>1</th>\n",
       "      <td>HS</td>\n",
       "      <td>High school graduate or less (EDUCD &lt; 65)</td>\n",
       "    </tr>\n",
       "    <tr>\n",
       "      <th>2</th>\n",
       "      <td>SC</td>\n",
       "      <td>Some college (EDUCD &gt;= 65 &amp; &lt;= 100)</td>\n",
       "    </tr>\n",
       "    <tr>\n",
       "      <th>3</th>\n",
       "      <td>BAp</td>\n",
       "      <td>Bachelor's degree or more (EDUCD &gt; 100)</td>\n",
       "    </tr>\n",
       "    <tr>\n",
       "      <th>4</th>\n",
       "      <td>BAo</td>\n",
       "      <td>Bachelor's degree, no graduate degre (EDUCD &gt; ...</td>\n",
       "    </tr>\n",
       "    <tr>\n",
       "      <th>5</th>\n",
       "      <td>GD</td>\n",
       "      <td>Graduate degree (EDUCD &gt; 113)</td>\n",
       "    </tr>\n",
       "    <tr>\n",
       "      <th>6</th>\n",
       "      <td>White</td>\n",
       "      <td>Non-Hispanic white</td>\n",
       "    </tr>\n",
       "    <tr>\n",
       "      <th>7</th>\n",
       "      <td>Black</td>\n",
       "      <td>Black or African-American</td>\n",
       "    </tr>\n",
       "    <tr>\n",
       "      <th>8</th>\n",
       "      <td>Hisp</td>\n",
       "      <td>Hispanic of any race</td>\n",
       "    </tr>\n",
       "    <tr>\n",
       "      <th>9</th>\n",
       "      <td>NE</td>\n",
       "      <td>New England (REGION == 11)</td>\n",
       "    </tr>\n",
       "    <tr>\n",
       "      <th>10</th>\n",
       "      <td>MA</td>\n",
       "      <td>Mid-Atlantic (REGION == 12)</td>\n",
       "    </tr>\n",
       "    <tr>\n",
       "      <th>11</th>\n",
       "      <td>Midwest</td>\n",
       "      <td>Midwest (REGION == 21-23)</td>\n",
       "    </tr>\n",
       "    <tr>\n",
       "      <th>12</th>\n",
       "      <td>South</td>\n",
       "      <td>South (REGION == 31-34)</td>\n",
       "    </tr>\n",
       "    <tr>\n",
       "      <th>13</th>\n",
       "      <td>Mountain</td>\n",
       "      <td>Mountain West (REGION == 41)</td>\n",
       "    </tr>\n",
       "    <tr>\n",
       "      <th>14</th>\n",
       "      <td>Pacific</td>\n",
       "      <td>Pacific (REGION == 42)</td>\n",
       "    </tr>\n",
       "    <tr>\n",
       "      <th>15</th>\n",
       "      <td>poor</td>\n",
       "      <td>Family income in lowest 25%</td>\n",
       "    </tr>\n",
       "    <tr>\n",
       "      <th>16</th>\n",
       "      <td>mid</td>\n",
       "      <td>Family income in middle 50%</td>\n",
       "    </tr>\n",
       "    <tr>\n",
       "      <th>17</th>\n",
       "      <td>rich</td>\n",
       "      <td>Family income in top 25%</td>\n",
       "    </tr>\n",
       "    <tr>\n",
       "      <th>18</th>\n",
       "      <td>work</td>\n",
       "      <td>Employed 50+ weeks prior year</td>\n",
       "    </tr>\n",
       "    <tr>\n",
       "      <th>19</th>\n",
       "      <td>nowork</td>\n",
       "      <td>Not employed at least 50 weeks prior year</td>\n",
       "    </tr>\n",
       "    <tr>\n",
       "      <th>20</th>\n",
       "      <td>nokids_all</td>\n",
       "      <td>No own children living at home</td>\n",
       "    </tr>\n",
       "    <tr>\n",
       "      <th>21</th>\n",
       "      <td>kids_all</td>\n",
       "      <td>At least one own child living at home</td>\n",
       "    </tr>\n",
       "  </tbody>\n",
       "</table>\n",
       "</div>"
      ],
      "text/plain": [
       "        Header                                        Description\n",
       "0          all     Total (or all men/women in sex-specific files)\n",
       "1           HS          High school graduate or less (EDUCD < 65)\n",
       "2           SC                Some college (EDUCD >= 65 & <= 100)\n",
       "3          BAp            Bachelor's degree or more (EDUCD > 100)\n",
       "4          BAo  Bachelor's degree, no graduate degre (EDUCD > ...\n",
       "5           GD                      Graduate degree (EDUCD > 113)\n",
       "6        White                                 Non-Hispanic white\n",
       "7        Black                          Black or African-American\n",
       "8         Hisp                               Hispanic of any race\n",
       "9           NE                         New England (REGION == 11)\n",
       "10          MA                        Mid-Atlantic (REGION == 12)\n",
       "11     Midwest                          Midwest (REGION == 21-23)\n",
       "12       South                            South (REGION == 31-34)\n",
       "13    Mountain                       Mountain West (REGION == 41)\n",
       "14     Pacific                             Pacific (REGION == 42)\n",
       "15        poor                        Family income in lowest 25%\n",
       "16         mid                        Family income in middle 50%\n",
       "17        rich                           Family income in top 25%\n",
       "18        work                      Employed 50+ weeks prior year\n",
       "19      nowork          Not employed at least 50 weeks prior year\n",
       "20  nokids_all                     No own children living at home\n",
       "21    kids_all              At least one own child living at home"
      ]
     },
     "execution_count": 4,
     "metadata": {},
     "output_type": "execute_result"
    }
   ],
   "source": [
    "#---------------------------------------------------------------------------\n",
    "#////////////////////////READ ME////////////////////////\n",
    "#---------------------------------------------------------------------------\n",
    "\n",
    "\n",
    "html = requests.get('https://github.com/resbaz/data/blob/master/marriage/README.md').content\n",
    "x_list = pd.read_html(html,header=0)\n",
    "x = x_list[0]\n",
    "x"
   ]
  },
  {
   "cell_type": "code",
   "execution_count": 5,
   "metadata": {},
   "outputs": [],
   "source": [
    "#---------------------------------------------------------------------------------------\n",
    "#Función que determina la mediana de una distribución de datos.\n",
    "#---------------------------------------------------------------------------------------\n",
    "    \n",
    "#Calcula la mediana\n",
    "def median(data):\n",
    "    n = len(data)\n",
    "    index = n // 2\n",
    "    \n",
    "    if n % 2:\n",
    "        return sorted(data)[index]\n",
    "    \n",
    "    return sum(sorted(data)[index - 1:index + 1]) / 2"
   ]
  },
  {
   "cell_type": "code",
   "execution_count": 6,
   "metadata": {},
   "outputs": [
    {
     "data": {
      "text/html": [
       "<div>\n",
       "<style scoped>\n",
       "    .dataframe tbody tr th:only-of-type {\n",
       "        vertical-align: middle;\n",
       "    }\n",
       "\n",
       "    .dataframe tbody tr th {\n",
       "        vertical-align: top;\n",
       "    }\n",
       "\n",
       "    .dataframe thead th {\n",
       "        text-align: right;\n",
       "    }\n",
       "</style>\n",
       "<table border=\"1\" class=\"dataframe\">\n",
       "  <thead>\n",
       "    <tr style=\"text-align: right;\">\n",
       "      <th></th>\n",
       "      <th>Header</th>\n",
       "      <th>Description</th>\n",
       "    </tr>\n",
       "  </thead>\n",
       "  <tbody>\n",
       "    <tr>\n",
       "      <th>0</th>\n",
       "      <td>all</td>\n",
       "      <td>Total (or all men/women in sex-specific files)</td>\n",
       "    </tr>\n",
       "    <tr>\n",
       "      <th>1</th>\n",
       "      <td>HS</td>\n",
       "      <td>High school graduate or less (EDUCD &lt; 65)</td>\n",
       "    </tr>\n",
       "    <tr>\n",
       "      <th>2</th>\n",
       "      <td>SC</td>\n",
       "      <td>Some college (EDUCD &gt;= 65 &amp; &lt;= 100)</td>\n",
       "    </tr>\n",
       "    <tr>\n",
       "      <th>3</th>\n",
       "      <td>BAp</td>\n",
       "      <td>Bachelor's degree or more (EDUCD &gt; 100)</td>\n",
       "    </tr>\n",
       "    <tr>\n",
       "      <th>4</th>\n",
       "      <td>BAo</td>\n",
       "      <td>Bachelor's degree, no graduate degre (EDUCD &gt; ...</td>\n",
       "    </tr>\n",
       "    <tr>\n",
       "      <th>5</th>\n",
       "      <td>GD</td>\n",
       "      <td>Graduate degree (EDUCD &gt; 113)</td>\n",
       "    </tr>\n",
       "    <tr>\n",
       "      <th>6</th>\n",
       "      <td>White</td>\n",
       "      <td>Non-Hispanic white</td>\n",
       "    </tr>\n",
       "    <tr>\n",
       "      <th>7</th>\n",
       "      <td>Black</td>\n",
       "      <td>Black or African-American</td>\n",
       "    </tr>\n",
       "    <tr>\n",
       "      <th>8</th>\n",
       "      <td>Hisp</td>\n",
       "      <td>Hispanic of any race</td>\n",
       "    </tr>\n",
       "    <tr>\n",
       "      <th>9</th>\n",
       "      <td>NE</td>\n",
       "      <td>New England (REGION == 11)</td>\n",
       "    </tr>\n",
       "    <tr>\n",
       "      <th>10</th>\n",
       "      <td>MA</td>\n",
       "      <td>Mid-Atlantic (REGION == 12)</td>\n",
       "    </tr>\n",
       "    <tr>\n",
       "      <th>11</th>\n",
       "      <td>Midwest</td>\n",
       "      <td>Midwest (REGION == 21-23)</td>\n",
       "    </tr>\n",
       "    <tr>\n",
       "      <th>12</th>\n",
       "      <td>South</td>\n",
       "      <td>South (REGION == 31-34)</td>\n",
       "    </tr>\n",
       "    <tr>\n",
       "      <th>13</th>\n",
       "      <td>Mountain</td>\n",
       "      <td>Mountain West (REGION == 41)</td>\n",
       "    </tr>\n",
       "    <tr>\n",
       "      <th>14</th>\n",
       "      <td>Pacific</td>\n",
       "      <td>Pacific (REGION == 42)</td>\n",
       "    </tr>\n",
       "    <tr>\n",
       "      <th>15</th>\n",
       "      <td>poor</td>\n",
       "      <td>Family income in lowest 25%</td>\n",
       "    </tr>\n",
       "    <tr>\n",
       "      <th>16</th>\n",
       "      <td>mid</td>\n",
       "      <td>Family income in middle 50%</td>\n",
       "    </tr>\n",
       "    <tr>\n",
       "      <th>17</th>\n",
       "      <td>rich</td>\n",
       "      <td>Family income in top 25%</td>\n",
       "    </tr>\n",
       "    <tr>\n",
       "      <th>18</th>\n",
       "      <td>work</td>\n",
       "      <td>Employed 50+ weeks prior year</td>\n",
       "    </tr>\n",
       "    <tr>\n",
       "      <th>19</th>\n",
       "      <td>nowork</td>\n",
       "      <td>Not employed at least 50 weeks prior year</td>\n",
       "    </tr>\n",
       "    <tr>\n",
       "      <th>20</th>\n",
       "      <td>nokids_all</td>\n",
       "      <td>No own children living at home</td>\n",
       "    </tr>\n",
       "    <tr>\n",
       "      <th>21</th>\n",
       "      <td>kids_all</td>\n",
       "      <td>At least one own child living at home</td>\n",
       "    </tr>\n",
       "  </tbody>\n",
       "</table>\n",
       "</div>"
      ],
      "text/plain": [
       "        Header                                        Description\n",
       "0          all     Total (or all men/women in sex-specific files)\n",
       "1           HS          High school graduate or less (EDUCD < 65)\n",
       "2           SC                Some college (EDUCD >= 65 & <= 100)\n",
       "3          BAp            Bachelor's degree or more (EDUCD > 100)\n",
       "4          BAo  Bachelor's degree, no graduate degre (EDUCD > ...\n",
       "5           GD                      Graduate degree (EDUCD > 113)\n",
       "6        White                                 Non-Hispanic white\n",
       "7        Black                          Black or African-American\n",
       "8         Hisp                               Hispanic of any race\n",
       "9           NE                         New England (REGION == 11)\n",
       "10          MA                        Mid-Atlantic (REGION == 12)\n",
       "11     Midwest                          Midwest (REGION == 21-23)\n",
       "12       South                            South (REGION == 31-34)\n",
       "13    Mountain                       Mountain West (REGION == 41)\n",
       "14     Pacific                             Pacific (REGION == 42)\n",
       "15        poor                        Family income in lowest 25%\n",
       "16         mid                        Family income in middle 50%\n",
       "17        rich                           Family income in top 25%\n",
       "18        work                      Employed 50+ weeks prior year\n",
       "19      nowork          Not employed at least 50 weeks prior year\n",
       "20  nokids_all                     No own children living at home\n",
       "21    kids_all              At least one own child living at home"
      ]
     },
     "execution_count": 6,
     "metadata": {},
     "output_type": "execute_result"
    }
   ],
   "source": [
    "\n",
    "#---------------------------------------------------------------------------\n",
    "#////////////////////////READ ME////////////////////////\n",
    "#---------------------------------------------------------------------------\n",
    "\n",
    "html = requests.get('https://github.com/resbaz/data/blob/master/marriage/README.md').content\n",
    "x_list = pd.read_html(html,header=0)\n",
    "x = x_list[0]\n",
    "x"
   ]
  },
  {
   "cell_type": "code",
   "execution_count": 7,
   "metadata": {},
   "outputs": [],
   "source": [
    "#----------------------------------------------------------------------------\n",
    "#Definimos los vectores que contienen las tablas a analizar\n",
    "#-----------------------------------------------------------------------------\n",
    "#tablas de datos que se van a analizar\n",
    "#marriages both sexes, divorces,men, women\n",
    "url = ['https://github.com/resbaz/data/blob/master/marriage/both_sexes.csv',\n",
    "      'https://github.com/resbaz/data/blob/master/marriage/divorce.csv',\n",
    "      'https://github.com/resbaz/data/blob/master/marriage/men.csv',\n",
    "      'https://github.com/resbaz/data/blob/master/marriage/women.csv'\n",
    "      ]\n",
    "\n",
    "cat = []\n",
    "    \n",
    "dow(url,cat)"
   ]
  },
  {
   "cell_type": "code",
   "execution_count": 8,
   "metadata": {},
   "outputs": [
    {
     "data": {
      "image/png": "[encoded data removed]",
      "text/plain": [
       "<Figure size 432x288 with 1 Axes>"
      ]
     },
     "metadata": {
      "needs_background": "light"
     },
     "output_type": "display_data"
    }
   ],
   "source": [
    "#---------------------------------------\n",
    "#///////////////PLOTS////////////////\n",
    "#---------------------------------------\n",
    "#De las tablas precargadas utilizaremos los datos del rango de edades de 35 a 44 años \n",
    "# excepto cuando comparemos la situación laboral, ahí que utilizaremos el rango de 25 a 34 años.\n",
    "\n",
    "#Los datos representan el índice de matrimonios o divorcios respecto a la población total de esa edad.\n",
    "\n",
    "#los nombres de las columnas estan escritos como: clave_edades. \n",
    "#ej. Para todos de 25 a 34 años: all_2534 \n",
    "\n",
    "\n",
    "\n",
    "\n",
    "#-------------------------------------------------------------------------------\n",
    "#1- ¿Cómo es el índice de divorcios contra el de matrimonios?\n",
    "#-------------------------------------------------------------------------------\n",
    "what = [cat[0]['all_3544'],cat[1]['all_3544']]\n",
    "name = ['Marriages','Divorces']\n",
    "ratio = cat[0]['all_3544']/cat[1]['all_3544']\n",
    "\n",
    "width=0.8/len(what)\n",
    "fig, ax = plt.subplots()\n",
    "\n",
    "for i in range(len(what)):\n",
    "    ax.bar(cat[0]['year'] - width/2 + width*i, what[i], width ,label=name[i])\n",
    "\n",
    "plt.plot(cat[0]['year'],ratio-1,'--o',color='green',label='mar/div') #plot ratio\n",
    "\n",
    "\n",
    "plt.grid()\n",
    "plt.legend()\n",
    "plt.xlabel('Año')\n",
    "plt.ylabel('% de la población')\n",
    "plt.show()"
   ]
  },
  {
   "cell_type": "code",
   "execution_count": 9,
   "metadata": {},
   "outputs": [
    {
     "data": {
      "image/png": "[encoded data removed]",
      "text/plain": [
       "<Figure size 432x288 with 1 Axes>"
      ]
     },
     "metadata": {
      "needs_background": "light"
     },
     "output_type": "display_data"
    }
   ],
   "source": [
    "#----------------------------------------------------------\n",
    "#2- Comparar matrimonios por clase social\n",
    "#----------------------------------------------------------\n",
    "\n",
    "what = [cat[0]['poor_3544'],cat[0]['mid_3544'],cat[0]['rich_3544']]\n",
    "name = ['rich','medium','poor']\n",
    "\n",
    "barritas(what,name)"
   ]
  },
  {
   "cell_type": "code",
   "execution_count": 10,
   "metadata": {},
   "outputs": [
    {
     "data": {
      "image/png": "[encoded data removed]",
      "text/plain": [
       "<Figure size 432x288 with 1 Axes>"
      ]
     },
     "metadata": {
      "needs_background": "light"
     },
     "output_type": "display_data"
    }
   ],
   "source": [
    "#---------------------------------------------------------------------------------------\n",
    "#3- Comparar número de matrimonios divorcios con el nivel escolar\n",
    "#---------------------------------------------------------------------------------------\n",
    "what = [cat[0]['HS_3544'],cat[0]['SC_3544'], cat[0]['BAp_3544'], cat[0]['BAo_3544'], cat[0]['GD_3544']]\n",
    "name = ['HS', 'SC', 'BAp', 'BAo', 'GD']\n",
    "\n",
    "barritas(what,name)"
   ]
  },
  {
   "cell_type": "code",
   "execution_count": 11,
   "metadata": {},
   "outputs": [
    {
     "data": {
      "image/png": "[encoded data removed]",
      "text/plain": [
       "<Figure size 432x288 with 1 Axes>"
      ]
     },
     "metadata": {
      "needs_background": "light"
     },
     "output_type": "display_data"
    }
   ],
   "source": [
    "#---------------------------------------------------------------------------------\n",
    "#4- Comparar el número de matrimonios de hombres contra mujeres\n",
    "#---------------------------------------------------------------------------------\n",
    "what = [cat[2]['all_3544'],cat[3]['all_3544']]\n",
    "name = ['Hombres','Mujeres']\n",
    "\n",
    "barritas(what,name)"
   ]
  },
  {
   "cell_type": "code",
   "execution_count": 12,
   "metadata": {},
   "outputs": [
    {
     "data": {
      "image/png": "[encoded data removed]",
      "text/plain": [
       "<Figure size 432x288 with 1 Axes>"
      ]
     },
     "metadata": {
      "needs_background": "light"
     },
     "output_type": "display_data"
    }
   ],
   "source": [
    "#--------------------------------------------------------------------------------\n",
    "#5- Comparar los matrimonios por raza\n",
    "#--------------------------------------------------------------------------------\n",
    "\n",
    "what = [cat[0]['White_3544'], cat[0]['Black_3544'], cat[0]['Hisp_3544']]\n",
    "name = ['White', 'Black', 'Hisp']\n",
    "\n",
    "barritas(what,name)"
   ]
  },
  {
   "cell_type": "code",
   "execution_count": 13,
   "metadata": {},
   "outputs": [
    {
     "data": {
      "image/png": "[encoded data removed]",
      "text/plain": [
       "<Figure size 432x288 with 1 Axes>"
      ]
     },
     "metadata": {
      "needs_background": "light"
     },
     "output_type": "display_data"
    },
    {
     "data": {
      "image/png": "[encoded data removed]",
      "text/plain": [
       "<Figure size 432x288 with 1 Axes>"
      ]
     },
     "metadata": {
      "needs_background": "light"
     },
     "output_type": "display_data"
    }
   ],
   "source": [
    "#-------------------------------------------------------------------------------\n",
    "#6- Comparar matrimonios por situación laboral\n",
    "#-------------------------------------------------------------------------------\n",
    "what = [cat[0]['all_2534'], cat[2]['work_2534'], cat[3]['work_2534']]\n",
    "name = ['All', 'M_work','W_work']\n",
    "\n",
    "barritas(what,name)\n",
    "\n",
    "\n",
    "what = [cat[0]['all_2534'], (cat[2]['work_2534']+ cat[3]['work_2534'])/2]\n",
    "name = ['All', 'Work']\n",
    "\n",
    "barritas(what,name)"
   ]
  },
  {
   "cell_type": "code",
   "execution_count": 14,
   "metadata": {},
   "outputs": [
    {
     "name": "stdout",
     "output_type": "stream",
     "text": [
      "Casados\n",
      "Promedio 18.364837492977625\n",
      "Mediana 19.0233194660955\n",
      "Divorciados\n",
      "Promedio 15.936238344434376\n",
      "Mediana 16.0468871507897\n"
     ]
    }
   ],
   "source": [
    "#------------------------------------------------------------------------------\n",
    "#7-media, mediana y moda de matrimonios/divorcios a lo largo de los años\n",
    "#-----------------------------------------------------------------------------\n",
    "\n",
    "print('Casados')\n",
    "#Promedio\n",
    "print('Promedio',100*cat[0]['all_3544'].mean())\n",
    "#Mediana\n",
    "print('Mediana',100*median(cat[0]['all_3544']))\n",
    "\n",
    "\n",
    "print('Divorciados')\n",
    "#Promedio\n",
    "print('Promedio',100*cat[1]['all_3544'].mean())\n",
    "#Mediana\n",
    "print('Mediana',100*median(cat[1]['all_3544']))"
   ]
  },
  {
   "cell_type": "code",
   "execution_count": null,
   "metadata": {},
   "outputs": [],
   "source": [
    "#------------------------------------------------------------------------------\n",
    "#7-media, mediana y moda de matrimonios/divorcios a lo largo de los años\n",
    "#-----------------------------------------------------------------------------\n",
    "\n",
    "print('Casados')\n",
    "#Promedio\n",
    "print('Promedio',100*cat[0]['all_3544'].mean())\n",
    "#Mediana\n",
    "print('Mediana',100*median(cat[0]['all_3544']))\n",
    "\n",
    "\n",
    "print('Divorciados')\n",
    "#Promedio\n",
    "print('Promedio',100*cat[1]['all_3544'].mean())\n",
    "#Mediana\n",
    "print('Mediana',100*median(cat[1]['all_3544']))\n",
    "plt.title('Divorciados')\n",
    "plt.grid()\n",
    "plt.legend()\n",
    "plt.xlabel('Año')\n",
    "plt.ylabel('% de la población')\n",
    "plt.show()\n",
    "#--------------------------------------------------------------------"
   ]
  }
 ],
 "metadata": {
  "kernelspec": {
   "display_name": "Python 3",
   "language": "python",
   "name": "python3"
  },
  "language_info": {
   "codemirror_mode": {
    "name": "ipython",
    "version": 3
   },
   "file_extension": ".py",
   "mimetype": "text/x-python",
   "name": "python",
   "nbconvert_exporter": "python",
   "pygments_lexer": "ipython3",
   "version": "3.8.5"
  }
 },
 "nbformat": 4,
 "nbformat_minor": 4
}
