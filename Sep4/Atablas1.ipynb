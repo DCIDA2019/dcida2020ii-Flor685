{
 "cells": [
  {
   "cell_type": "code",
   "execution_count": 3,
   "metadata": {},
   "outputs": [],
   "source": [
    "import os\n",
    "import requests\n",
    "import pandas as pd\n"
   ]
  },
  {
   "cell_type": "code",
   "execution_count": 4,
   "metadata": {},
   "outputs": [],
   "source": [
    "#Éstas son las direcciones que descargan los archivos en formato csv.\n",
    "\n",
    "#Temperatura mínima en el 2019\n",
    "url1 ='https://smn.conagua.gob.mx/tools/RESOURCES/com_archivo_datos_resumenes/201901010000TMin.csv'\n",
    "\n",
    "#Temperatura máxima en el 2019\n",
    "url2 ='https://smn.conagua.gob.mx/tools/RESOURCES/com_archivo_datos_resumenes/201901010000TMax.csv'"
   ]
  },
  {
   "cell_type": "code",
   "execution_count": 5,
   "metadata": {},
   "outputs": [],
   "source": [
    "tminima = pd.read_csv(url1, encoding='Latin')\n",
    "\n",
    "tmaxima = pd.read_csv(url2, encoding='Latin')"
   ]
  },
  {
   "cell_type": "code",
   "execution_count": 6,
   "metadata": {},
   "outputs": [
    {
     "data": {
      "text/html": [
       "<div>\n",
       "<style scoped>\n",
       "    .dataframe tbody tr th:only-of-type {\n",
       "        vertical-align: middle;\n",
       "    }\n",
       "\n",
       "    .dataframe tbody tr th {\n",
       "        vertical-align: top;\n",
       "    }\n",
       "\n",
       "    .dataframe thead th {\n",
       "        text-align: right;\n",
       "    }\n",
       "</style>\n",
       "<table border=\"1\" class=\"dataframe\">\n",
       "  <thead>\n",
       "    <tr style=\"text-align: right;\">\n",
       "      <th></th>\n",
       "      <th>Lon</th>\n",
       "      <th>Lat</th>\n",
       "      <th>Clave</th>\n",
       "      <th>Edo</th>\n",
       "      <th>Est</th>\n",
       "      <th>Tmin</th>\n",
       "    </tr>\n",
       "  </thead>\n",
       "  <tbody>\n",
       "    <tr>\n",
       "      <th>0</th>\n",
       "      <td>-99.75</td>\n",
       "      <td>16.76</td>\n",
       "      <td>76805</td>\n",
       "      <td>GRO</td>\n",
       "      <td>ACAPULCO</td>\n",
       "      <td>21.606452</td>\n",
       "    </tr>\n",
       "    <tr>\n",
       "      <th>1</th>\n",
       "      <td>-111.83</td>\n",
       "      <td>30.71</td>\n",
       "      <td>76113</td>\n",
       "      <td>SON</td>\n",
       "      <td>ALTAR</td>\n",
       "      <td>6.055172</td>\n",
       "    </tr>\n",
       "    <tr>\n",
       "      <th>2</th>\n",
       "      <td>-93.90</td>\n",
       "      <td>16.24</td>\n",
       "      <td>76840</td>\n",
       "      <td>CHIS</td>\n",
       "      <td>ARRIAGA</td>\n",
       "      <td>21.712903</td>\n",
       "    </tr>\n",
       "    <tr>\n",
       "      <th>3</th>\n",
       "      <td>-90.50</td>\n",
       "      <td>19.83</td>\n",
       "      <td>76695</td>\n",
       "      <td>CAMP</td>\n",
       "      <td>CAMPECHE</td>\n",
       "      <td>17.348148</td>\n",
       "    </tr>\n",
       "    <tr>\n",
       "      <th>4</th>\n",
       "      <td>-111.65</td>\n",
       "      <td>25.01</td>\n",
       "      <td>76402</td>\n",
       "      <td>BCS</td>\n",
       "      <td>CD. CONSTITUCIÓN</td>\n",
       "      <td>8.545161</td>\n",
       "    </tr>\n",
       "  </tbody>\n",
       "</table>\n",
       "</div>"
      ],
      "text/plain": [
       "      Lon    Lat  Clave   Edo               Est       Tmin\n",
       "0  -99.75  16.76  76805   GRO          ACAPULCO  21.606452\n",
       "1 -111.83  30.71  76113   SON             ALTAR   6.055172\n",
       "2  -93.90  16.24  76840  CHIS           ARRIAGA  21.712903\n",
       "3  -90.50  19.83  76695  CAMP          CAMPECHE  17.348148\n",
       "4 -111.65  25.01  76402   BCS  CD. CONSTITUCIÓN   8.545161"
      ]
     },
     "execution_count": 6,
     "metadata": {},
     "output_type": "execute_result"
    }
   ],
   "source": [
    "#podemos observar los primeros datos \n",
    "tminima.head()"
   ]
  },
  {
   "cell_type": "code",
   "execution_count": 7,
   "metadata": {},
   "outputs": [
    {
     "data": {
      "text/html": [
       "<div>\n",
       "<style scoped>\n",
       "    .dataframe tbody tr th:only-of-type {\n",
       "        vertical-align: middle;\n",
       "    }\n",
       "\n",
       "    .dataframe tbody tr th {\n",
       "        vertical-align: top;\n",
       "    }\n",
       "\n",
       "    .dataframe thead th {\n",
       "        text-align: right;\n",
       "    }\n",
       "</style>\n",
       "<table border=\"1\" class=\"dataframe\">\n",
       "  <thead>\n",
       "    <tr style=\"text-align: right;\">\n",
       "      <th></th>\n",
       "      <th>Lon</th>\n",
       "      <th>Lat</th>\n",
       "      <th>Clave</th>\n",
       "      <th>Edo</th>\n",
       "      <th>Est</th>\n",
       "      <th>Tmax</th>\n",
       "    </tr>\n",
       "  </thead>\n",
       "  <tbody>\n",
       "    <tr>\n",
       "      <th>0</th>\n",
       "      <td>-99.75</td>\n",
       "      <td>16.76</td>\n",
       "      <td>76805</td>\n",
       "      <td>GRO</td>\n",
       "      <td>ACAPULCO</td>\n",
       "      <td>33.277419</td>\n",
       "    </tr>\n",
       "    <tr>\n",
       "      <th>1</th>\n",
       "      <td>-102.29</td>\n",
       "      <td>21.85</td>\n",
       "      <td>76571</td>\n",
       "      <td>AGS</td>\n",
       "      <td>AGUASCALIENTES</td>\n",
       "      <td>22.941935</td>\n",
       "    </tr>\n",
       "    <tr>\n",
       "      <th>2</th>\n",
       "      <td>-111.83</td>\n",
       "      <td>30.71</td>\n",
       "      <td>76113</td>\n",
       "      <td>SON</td>\n",
       "      <td>ALTAR</td>\n",
       "      <td>20.868966</td>\n",
       "    </tr>\n",
       "    <tr>\n",
       "      <th>3</th>\n",
       "      <td>-93.90</td>\n",
       "      <td>16.24</td>\n",
       "      <td>76840</td>\n",
       "      <td>CHIS</td>\n",
       "      <td>ARRIAGA</td>\n",
       "      <td>34.464516</td>\n",
       "    </tr>\n",
       "    <tr>\n",
       "      <th>4</th>\n",
       "      <td>-90.50</td>\n",
       "      <td>19.83</td>\n",
       "      <td>76695</td>\n",
       "      <td>CAMP</td>\n",
       "      <td>CAMPECHE</td>\n",
       "      <td>29.400000</td>\n",
       "    </tr>\n",
       "  </tbody>\n",
       "</table>\n",
       "</div>"
      ],
      "text/plain": [
       "      Lon    Lat  Clave   Edo             Est       Tmax\n",
       "0  -99.75  16.76  76805   GRO        ACAPULCO  33.277419\n",
       "1 -102.29  21.85  76571   AGS  AGUASCALIENTES  22.941935\n",
       "2 -111.83  30.71  76113   SON           ALTAR  20.868966\n",
       "3  -93.90  16.24  76840  CHIS         ARRIAGA  34.464516\n",
       "4  -90.50  19.83  76695  CAMP        CAMPECHE  29.400000"
      ]
     },
     "execution_count": 7,
     "metadata": {},
     "output_type": "execute_result"
    }
   ],
   "source": [
    "tmaxima.head()"
   ]
  },
  {
   "cell_type": "code",
   "execution_count": 8,
   "metadata": {},
   "outputs": [
    {
     "data": {
      "text/html": [
       "<div>\n",
       "<style scoped>\n",
       "    .dataframe tbody tr th:only-of-type {\n",
       "        vertical-align: middle;\n",
       "    }\n",
       "\n",
       "    .dataframe tbody tr th {\n",
       "        vertical-align: top;\n",
       "    }\n",
       "\n",
       "    .dataframe thead th {\n",
       "        text-align: right;\n",
       "    }\n",
       "</style>\n",
       "<table border=\"1\" class=\"dataframe\">\n",
       "  <thead>\n",
       "    <tr style=\"text-align: right;\">\n",
       "      <th></th>\n",
       "      <th>Lon</th>\n",
       "      <th>Lat</th>\n",
       "      <th>Clave</th>\n",
       "      <th>Edo</th>\n",
       "      <th>Est</th>\n",
       "      <th>Tmin</th>\n",
       "    </tr>\n",
       "  </thead>\n",
       "  <tbody>\n",
       "    <tr>\n",
       "      <th>0</th>\n",
       "      <td>-99.75</td>\n",
       "      <td>16.76</td>\n",
       "      <td>76805</td>\n",
       "      <td>GRO</td>\n",
       "      <td>ACAPULCO</td>\n",
       "      <td>21.606452</td>\n",
       "    </tr>\n",
       "    <tr>\n",
       "      <th>1</th>\n",
       "      <td>-111.83</td>\n",
       "      <td>30.71</td>\n",
       "      <td>76113</td>\n",
       "      <td>SON</td>\n",
       "      <td>ALTAR</td>\n",
       "      <td>6.055172</td>\n",
       "    </tr>\n",
       "    <tr>\n",
       "      <th>2</th>\n",
       "      <td>-93.90</td>\n",
       "      <td>16.24</td>\n",
       "      <td>76840</td>\n",
       "      <td>CHIS</td>\n",
       "      <td>ARRIAGA</td>\n",
       "      <td>21.712903</td>\n",
       "    </tr>\n",
       "    <tr>\n",
       "      <th>3</th>\n",
       "      <td>-90.50</td>\n",
       "      <td>19.83</td>\n",
       "      <td>76695</td>\n",
       "      <td>CAMP</td>\n",
       "      <td>CAMPECHE</td>\n",
       "      <td>17.348148</td>\n",
       "    </tr>\n",
       "    <tr>\n",
       "      <th>4</th>\n",
       "      <td>-111.65</td>\n",
       "      <td>25.01</td>\n",
       "      <td>76402</td>\n",
       "      <td>BCS</td>\n",
       "      <td>CD. CONSTITUCIÓN</td>\n",
       "      <td>8.545161</td>\n",
       "    </tr>\n",
       "    <tr>\n",
       "      <th>5</th>\n",
       "      <td>-109.92</td>\n",
       "      <td>27.48</td>\n",
       "      <td>76258</td>\n",
       "      <td>SON</td>\n",
       "      <td>CD. OBREGON</td>\n",
       "      <td>7.353571</td>\n",
       "    </tr>\n",
       "    <tr>\n",
       "      <th>6</th>\n",
       "      <td>-99.17</td>\n",
       "      <td>23.75</td>\n",
       "      <td>76491</td>\n",
       "      <td>TAMPS</td>\n",
       "      <td>CD. VICTORIA</td>\n",
       "      <td>10.256000</td>\n",
       "    </tr>\n",
       "    <tr>\n",
       "      <th>7</th>\n",
       "      <td>-99.20</td>\n",
       "      <td>19.40</td>\n",
       "      <td>76680</td>\n",
       "      <td>DF</td>\n",
       "      <td>CENTRAL TACUBAYA</td>\n",
       "      <td>8.629032</td>\n",
       "    </tr>\n",
       "    <tr>\n",
       "      <th>8</th>\n",
       "      <td>-88.30</td>\n",
       "      <td>18.48</td>\n",
       "      <td>76750</td>\n",
       "      <td>QROO</td>\n",
       "      <td>CHETUMAL</td>\n",
       "      <td>18.380645</td>\n",
       "    </tr>\n",
       "    <tr>\n",
       "      <th>9</th>\n",
       "      <td>-106.13</td>\n",
       "      <td>28.67</td>\n",
       "      <td>76225</td>\n",
       "      <td>CHIH</td>\n",
       "      <td>CHIHUAHUA</td>\n",
       "      <td>3.293548</td>\n",
       "    </tr>\n",
       "  </tbody>\n",
       "</table>\n",
       "</div>"
      ],
      "text/plain": [
       "      Lon    Lat  Clave    Edo               Est       Tmin\n",
       "0  -99.75  16.76  76805    GRO          ACAPULCO  21.606452\n",
       "1 -111.83  30.71  76113    SON             ALTAR   6.055172\n",
       "2  -93.90  16.24  76840   CHIS           ARRIAGA  21.712903\n",
       "3  -90.50  19.83  76695   CAMP          CAMPECHE  17.348148\n",
       "4 -111.65  25.01  76402    BCS  CD. CONSTITUCIÓN   8.545161\n",
       "5 -109.92  27.48  76258    SON       CD. OBREGON   7.353571\n",
       "6  -99.17  23.75  76491  TAMPS      CD. VICTORIA  10.256000\n",
       "7  -99.20  19.40  76680     DF  CENTRAL TACUBAYA   8.629032\n",
       "8  -88.30  18.48  76750   QROO          CHETUMAL  18.380645\n",
       "9 -106.13  28.67  76225   CHIH         CHIHUAHUA   3.293548"
      ]
     },
     "execution_count": 8,
     "metadata": {},
     "output_type": "execute_result"
    }
   ],
   "source": [
    "#O seleccionar el número de datos que quermos ver (de arriba hacia abajo), por ejemplo 10\n",
    "tminima.head(10)"
   ]
  },
  {
   "cell_type": "code",
   "execution_count": 80,
   "metadata": {},
   "outputs": [
    {
     "data": {
      "text/html": [
       "<div>\n",
       "<style scoped>\n",
       "    .dataframe tbody tr th:only-of-type {\n",
       "        vertical-align: middle;\n",
       "    }\n",
       "\n",
       "    .dataframe tbody tr th {\n",
       "        vertical-align: top;\n",
       "    }\n",
       "\n",
       "    .dataframe thead th {\n",
       "        text-align: right;\n",
       "    }\n",
       "</style>\n",
       "<table border=\"1\" class=\"dataframe\">\n",
       "  <thead>\n",
       "    <tr style=\"text-align: right;\">\n",
       "      <th></th>\n",
       "      <th>Lon</th>\n",
       "      <th>Lat</th>\n",
       "      <th>Clave</th>\n",
       "      <th>Est</th>\n",
       "      <th>Tmax</th>\n",
       "    </tr>\n",
       "    <tr>\n",
       "      <th>Edo</th>\n",
       "      <th></th>\n",
       "      <th></th>\n",
       "      <th></th>\n",
       "      <th></th>\n",
       "      <th></th>\n",
       "    </tr>\n",
       "  </thead>\n",
       "  <tbody>\n",
       "    <tr>\n",
       "      <th>GRO</th>\n",
       "      <td>-99.75</td>\n",
       "      <td>16.76</td>\n",
       "      <td>76805</td>\n",
       "      <td>ACAPULCO</td>\n",
       "      <td>33.277419</td>\n",
       "    </tr>\n",
       "    <tr>\n",
       "      <th>AGS</th>\n",
       "      <td>-102.29</td>\n",
       "      <td>21.85</td>\n",
       "      <td>76571</td>\n",
       "      <td>AGUASCALIENTES</td>\n",
       "      <td>22.941935</td>\n",
       "    </tr>\n",
       "    <tr>\n",
       "      <th>SON</th>\n",
       "      <td>-111.83</td>\n",
       "      <td>30.71</td>\n",
       "      <td>76113</td>\n",
       "      <td>ALTAR</td>\n",
       "      <td>20.868966</td>\n",
       "    </tr>\n",
       "    <tr>\n",
       "      <th>CHIS</th>\n",
       "      <td>-93.90</td>\n",
       "      <td>16.24</td>\n",
       "      <td>76840</td>\n",
       "      <td>ARRIAGA</td>\n",
       "      <td>34.464516</td>\n",
       "    </tr>\n",
       "    <tr>\n",
       "      <th>CAMP</th>\n",
       "      <td>-90.50</td>\n",
       "      <td>19.83</td>\n",
       "      <td>76695</td>\n",
       "      <td>CAMPECHE</td>\n",
       "      <td>29.400000</td>\n",
       "    </tr>\n",
       "    <tr>\n",
       "      <th>...</th>\n",
       "      <td>...</td>\n",
       "      <td>...</td>\n",
       "      <td>...</td>\n",
       "      <td>...</td>\n",
       "      <td>...</td>\n",
       "    </tr>\n",
       "    <tr>\n",
       "      <th>MEX</th>\n",
       "      <td>-99.80</td>\n",
       "      <td>19.33</td>\n",
       "      <td>TBRMX</td>\n",
       "      <td>Tres Barrancas Méx.</td>\n",
       "      <td>19.673077</td>\n",
       "    </tr>\n",
       "    <tr>\n",
       "      <th>MEX</th>\n",
       "      <td>-98.90</td>\n",
       "      <td>19.44</td>\n",
       "      <td>TJCMX</td>\n",
       "      <td>El Tejocote Méx.</td>\n",
       "      <td>21.461538</td>\n",
       "    </tr>\n",
       "    <tr>\n",
       "      <th>MEX</th>\n",
       "      <td>-99.74</td>\n",
       "      <td>19.59</td>\n",
       "      <td>SLBMX</td>\n",
       "      <td>San Bartolo del Llano Méx.</td>\n",
       "      <td>19.865385</td>\n",
       "    </tr>\n",
       "    <tr>\n",
       "      <th>VER</th>\n",
       "      <td>-95.45</td>\n",
       "      <td>18.23</td>\n",
       "      <td>LCEVC</td>\n",
       "      <td>La Ceibilla Ver.</td>\n",
       "      <td>28.700000</td>\n",
       "    </tr>\n",
       "    <tr>\n",
       "      <th>QROO</th>\n",
       "      <td>-87.47</td>\n",
       "      <td>20.13</td>\n",
       "      <td>SIAQR</td>\n",
       "      <td>Sian Kaan 2 Q. Roo. SMN*,,\\r\\n-87.47,20.13,10/...</td>\n",
       "      <td>31.258333</td>\n",
       "    </tr>\n",
       "  </tbody>\n",
       "</table>\n",
       "<p>722 rows × 5 columns</p>\n",
       "</div>"
      ],
      "text/plain": [
       "         Lon    Lat  Clave                                                Est  \\\n",
       "Edo                                                                             \n",
       "GRO   -99.75  16.76  76805                                           ACAPULCO   \n",
       "AGS  -102.29  21.85  76571                                     AGUASCALIENTES   \n",
       "SON  -111.83  30.71  76113                                              ALTAR   \n",
       "CHIS  -93.90  16.24  76840                                            ARRIAGA   \n",
       "CAMP  -90.50  19.83  76695                                           CAMPECHE   \n",
       "...      ...    ...    ...                                                ...   \n",
       "MEX   -99.80  19.33  TBRMX                                Tres Barrancas Méx.   \n",
       "MEX   -98.90  19.44  TJCMX                                   El Tejocote Méx.   \n",
       "MEX   -99.74  19.59  SLBMX                         San Bartolo del Llano Méx.   \n",
       "VER   -95.45  18.23  LCEVC                                   La Ceibilla Ver.   \n",
       "QROO  -87.47  20.13  SIAQR  Sian Kaan 2 Q. Roo. SMN*,,\\r\\n-87.47,20.13,10/...   \n",
       "\n",
       "           Tmax  \n",
       "Edo              \n",
       "GRO   33.277419  \n",
       "AGS   22.941935  \n",
       "SON   20.868966  \n",
       "CHIS  34.464516  \n",
       "CAMP  29.400000  \n",
       "...         ...  \n",
       "MEX   19.673077  \n",
       "MEX   21.461538  \n",
       "MEX   19.865385  \n",
       "VER   28.700000  \n",
       "QROO  31.258333  \n",
       "\n",
       "[722 rows x 5 columns]"
      ]
     },
     "execution_count": 80,
     "metadata": {},
     "output_type": "execute_result"
    }
   ],
   "source": [
    "# Para arreglar los índices\n",
    "tmaxima . set_index ([  'Edo' ])"
   ]
  },
  {
   "cell_type": "code",
   "execution_count": 81,
   "metadata": {},
   "outputs": [
    {
     "data": {
      "text/html": [
       "<div>\n",
       "<style scoped>\n",
       "    .dataframe tbody tr th:only-of-type {\n",
       "        vertical-align: middle;\n",
       "    }\n",
       "\n",
       "    .dataframe tbody tr th {\n",
       "        vertical-align: top;\n",
       "    }\n",
       "\n",
       "    .dataframe thead th {\n",
       "        text-align: right;\n",
       "    }\n",
       "</style>\n",
       "<table border=\"1\" class=\"dataframe\">\n",
       "  <thead>\n",
       "    <tr style=\"text-align: right;\">\n",
       "      <th></th>\n",
       "      <th>Tmax</th>\n",
       "    </tr>\n",
       "    <tr>\n",
       "      <th>Edo</th>\n",
       "      <th></th>\n",
       "    </tr>\n",
       "  </thead>\n",
       "  <tbody>\n",
       "    <tr>\n",
       "      <th>AGS</th>\n",
       "      <td>23.305760</td>\n",
       "    </tr>\n",
       "    <tr>\n",
       "      <th>BC</th>\n",
       "      <td>20.565238</td>\n",
       "    </tr>\n",
       "    <tr>\n",
       "      <th>BCS</th>\n",
       "      <td>25.219430</td>\n",
       "    </tr>\n",
       "    <tr>\n",
       "      <th>CAMP</th>\n",
       "      <td>29.285450</td>\n",
       "    </tr>\n",
       "    <tr>\n",
       "      <th>CHIH</th>\n",
       "      <td>20.017167</td>\n",
       "    </tr>\n",
       "    <tr>\n",
       "      <th>CHIS</th>\n",
       "      <td>29.346937</td>\n",
       "    </tr>\n",
       "    <tr>\n",
       "      <th>COAH</th>\n",
       "      <td>20.348884</td>\n",
       "    </tr>\n",
       "    <tr>\n",
       "      <th>COL</th>\n",
       "      <td>32.650036</td>\n",
       "    </tr>\n",
       "    <tr>\n",
       "      <th>DF</th>\n",
       "      <td>22.683031</td>\n",
       "    </tr>\n",
       "    <tr>\n",
       "      <th>DGO</th>\n",
       "      <td>22.504545</td>\n",
       "    </tr>\n",
       "    <tr>\n",
       "      <th>GRO</th>\n",
       "      <td>30.430608</td>\n",
       "    </tr>\n",
       "    <tr>\n",
       "      <th>GTO</th>\n",
       "      <td>24.655212</td>\n",
       "    </tr>\n",
       "    <tr>\n",
       "      <th>HGO</th>\n",
       "      <td>23.233042</td>\n",
       "    </tr>\n",
       "    <tr>\n",
       "      <th>JAL</th>\n",
       "      <td>26.743230</td>\n",
       "    </tr>\n",
       "    <tr>\n",
       "      <th>MEX</th>\n",
       "      <td>21.597547</td>\n",
       "    </tr>\n",
       "    <tr>\n",
       "      <th>MICH</th>\n",
       "      <td>26.719883</td>\n",
       "    </tr>\n",
       "    <tr>\n",
       "      <th>MOR</th>\n",
       "      <td>26.236010</td>\n",
       "    </tr>\n",
       "    <tr>\n",
       "      <th>NAY</th>\n",
       "      <td>29.649194</td>\n",
       "    </tr>\n",
       "    <tr>\n",
       "      <th>NL</th>\n",
       "      <td>21.592423</td>\n",
       "    </tr>\n",
       "    <tr>\n",
       "      <th>OAX</th>\n",
       "      <td>28.923201</td>\n",
       "    </tr>\n",
       "    <tr>\n",
       "      <th>PUE</th>\n",
       "      <td>23.449595</td>\n",
       "    </tr>\n",
       "    <tr>\n",
       "      <th>QROO</th>\n",
       "      <td>29.828130</td>\n",
       "    </tr>\n",
       "    <tr>\n",
       "      <th>SIN</th>\n",
       "      <td>29.335344</td>\n",
       "    </tr>\n",
       "    <tr>\n",
       "      <th>SLP</th>\n",
       "      <td>25.105693</td>\n",
       "    </tr>\n",
       "    <tr>\n",
       "      <th>SON</th>\n",
       "      <td>22.571762</td>\n",
       "    </tr>\n",
       "    <tr>\n",
       "      <th>TAB</th>\n",
       "      <td>28.049627</td>\n",
       "    </tr>\n",
       "    <tr>\n",
       "      <th>TAMPS</th>\n",
       "      <td>23.574535</td>\n",
       "    </tr>\n",
       "    <tr>\n",
       "      <th>TLAX</th>\n",
       "      <td>21.833602</td>\n",
       "    </tr>\n",
       "    <tr>\n",
       "      <th>VER</th>\n",
       "      <td>24.078385</td>\n",
       "    </tr>\n",
       "    <tr>\n",
       "      <th>YUC</th>\n",
       "      <td>28.874119</td>\n",
       "    </tr>\n",
       "    <tr>\n",
       "      <th>ZAC</th>\n",
       "      <td>21.743618</td>\n",
       "    </tr>\n",
       "  </tbody>\n",
       "</table>\n",
       "</div>"
      ],
      "text/plain": [
       "            Tmax\n",
       "Edo             \n",
       "AGS    23.305760\n",
       "BC     20.565238\n",
       "BCS    25.219430\n",
       "CAMP   29.285450\n",
       "CHIH   20.017167\n",
       "CHIS   29.346937\n",
       "COAH   20.348884\n",
       "COL    32.650036\n",
       "DF     22.683031\n",
       "DGO    22.504545\n",
       "GRO    30.430608\n",
       "GTO    24.655212\n",
       "HGO    23.233042\n",
       "JAL    26.743230\n",
       "MEX    21.597547\n",
       "MICH   26.719883\n",
       "MOR    26.236010\n",
       "NAY    29.649194\n",
       "NL     21.592423\n",
       "OAX    28.923201\n",
       "PUE    23.449595\n",
       "QROO   29.828130\n",
       "SIN    29.335344\n",
       "SLP    25.105693\n",
       "SON    22.571762\n",
       "TAB    28.049627\n",
       "TAMPS  23.574535\n",
       "TLAX   21.833602\n",
       "VER    24.078385\n",
       "YUC    28.874119\n",
       "ZAC    21.743618"
      ]
     },
     "execution_count": 81,
     "metadata": {},
     "output_type": "execute_result"
    }
   ],
   "source": [
    "#Si quiero veer partes específicas de la tabla puedo crear un atabla pivote\n",
    "tmaxima.pivot_table('Tmax', index='Edo')"
   ]
  },
  {
   "cell_type": "code",
   "execution_count": 26,
   "metadata": {},
   "outputs": [],
   "source": [
    "#Puedo guardar esas partes específicas como una nueva tabla para trabajar con ellas\n",
    "t_max = tmaxima.pivot_table('Tmax', index='Edo')\n",
    "t_min = tminima.pivot_table('Tmin', index='Edo')"
   ]
  },
  {
   "cell_type": "code",
   "execution_count": 47,
   "metadata": {},
   "outputs": [
    {
     "data": {
      "text/html": [
       "<div>\n",
       "<style scoped>\n",
       "    .dataframe tbody tr th:only-of-type {\n",
       "        vertical-align: middle;\n",
       "    }\n",
       "\n",
       "    .dataframe tbody tr th {\n",
       "        vertical-align: top;\n",
       "    }\n",
       "\n",
       "    .dataframe thead th {\n",
       "        text-align: right;\n",
       "    }\n",
       "</style>\n",
       "<table border=\"1\" class=\"dataframe\">\n",
       "  <thead>\n",
       "    <tr style=\"text-align: right;\">\n",
       "      <th></th>\n",
       "      <th>Tmax</th>\n",
       "      <th>Tmin</th>\n",
       "    </tr>\n",
       "    <tr>\n",
       "      <th>Edo</th>\n",
       "      <th></th>\n",
       "      <th></th>\n",
       "    </tr>\n",
       "  </thead>\n",
       "  <tbody>\n",
       "    <tr>\n",
       "      <th>AGS</th>\n",
       "      <td>23.305760</td>\n",
       "      <td>4.566749</td>\n",
       "    </tr>\n",
       "    <tr>\n",
       "      <th>BC</th>\n",
       "      <td>20.565238</td>\n",
       "      <td>8.650000</td>\n",
       "    </tr>\n",
       "    <tr>\n",
       "      <th>BCS</th>\n",
       "      <td>25.219430</td>\n",
       "      <td>13.905677</td>\n",
       "    </tr>\n",
       "    <tr>\n",
       "      <th>CAMP</th>\n",
       "      <td>29.285450</td>\n",
       "      <td>17.311654</td>\n",
       "    </tr>\n",
       "    <tr>\n",
       "      <th>CHIH</th>\n",
       "      <td>20.017167</td>\n",
       "      <td>0.980009</td>\n",
       "    </tr>\n",
       "  </tbody>\n",
       "</table>\n",
       "</div>"
      ],
      "text/plain": [
       "           Tmax       Tmin\n",
       "Edo                       \n",
       "AGS   23.305760   4.566749\n",
       "BC    20.565238   8.650000\n",
       "BCS   25.219430  13.905677\n",
       "CAMP  29.285450  17.311654\n",
       "CHIH  20.017167   0.980009"
      ]
     },
     "execution_count": 47,
     "metadata": {},
     "output_type": "execute_result"
    }
   ],
   "source": [
    "#Hago una fusión de las tablas guardadas para tener la temperatura máxima y mínima de cada estado en una sola tabla\n",
    "merged = pd.merge(t_max, t_min, how='outer',\n",
    "                  left_on='Edo', right_on='Edo')\n",
    "#merged = merged.drop('Edo', 1) # drop duplicate info\n",
    "merged.head()"
   ]
  },
  {
   "cell_type": "code",
   "execution_count": 54,
   "metadata": {},
   "outputs": [
    {
     "data": {
      "text/plain": [
       "Tmax     True\n",
       "Tmin    False\n",
       "dtype: bool"
      ]
     },
     "execution_count": 54,
     "metadata": {},
     "output_type": "execute_result"
    }
   ],
   "source": [
    "#Para buscar si hay estados sin datos verificamos\n",
    "merged.isnull().any()"
   ]
  },
  {
   "cell_type": "code",
   "execution_count": 55,
   "metadata": {},
   "outputs": [
    {
     "data": {
      "text/html": [
       "<div>\n",
       "<style scoped>\n",
       "    .dataframe tbody tr th:only-of-type {\n",
       "        vertical-align: middle;\n",
       "    }\n",
       "\n",
       "    .dataframe tbody tr th {\n",
       "        vertical-align: top;\n",
       "    }\n",
       "\n",
       "    .dataframe thead th {\n",
       "        text-align: right;\n",
       "    }\n",
       "</style>\n",
       "<table border=\"1\" class=\"dataframe\">\n",
       "  <thead>\n",
       "    <tr style=\"text-align: right;\">\n",
       "      <th></th>\n",
       "      <th>Tmax</th>\n",
       "      <th>Tmin</th>\n",
       "    </tr>\n",
       "    <tr>\n",
       "      <th>Edo</th>\n",
       "      <th></th>\n",
       "      <th></th>\n",
       "    </tr>\n",
       "  </thead>\n",
       "  <tbody>\n",
       "    <tr>\n",
       "      <th>QRO</th>\n",
       "      <td>NaN</td>\n",
       "      <td>9.322581</td>\n",
       "    </tr>\n",
       "  </tbody>\n",
       "</table>\n",
       "</div>"
      ],
      "text/plain": [
       "     Tmax      Tmin\n",
       "Edo                \n",
       "QRO   NaN  9.322581"
      ]
     },
     "execution_count": 55,
     "metadata": {},
     "output_type": "execute_result"
    }
   ],
   "source": [
    "#vemos que hay datos faltantes en Tmax y buscamos cuáles son\n",
    "merged[merged['Tmax'].isnull()].head(5)"
   ]
  },
  {
   "cell_type": "code",
   "execution_count": 56,
   "metadata": {},
   "outputs": [],
   "source": [
    "#Así podemos ignorar los datos faltantes\n",
    "merged. dropna ( inplace = True ) "
   ]
  },
  {
   "cell_type": "code",
   "execution_count": 59,
   "metadata": {},
   "outputs": [],
   "source": [
    "#Podemos hacer operaciones entre las columnas de la tabla fusionada, por ejemplo la diferencia de temperatura máxima y mínima de cada estado\n",
    "#merged.set_index('Edo', inplace=True)\n",
    "diferencia = merged['Tmax'] - merged['Tmin']"
   ]
  },
  {
   "cell_type": "code",
   "execution_count": 60,
   "metadata": {},
   "outputs": [
    {
     "data": {
      "text/plain": [
       "Edo\n",
       "DGO     19.618807\n",
       "CHIH    19.037158\n",
       "MICH    19.029432\n",
       "TLAX    18.877688\n",
       "AGS     18.739011\n",
       "dtype: float64"
      ]
     },
     "execution_count": 60,
     "metadata": {},
     "output_type": "execute_result"
    }
   ],
   "source": [
    "diferencia.sort_values(ascending=False, inplace=True)\n",
    "diferencia.head()\n",
    "#Con esto nos podemos dar cuanta que el estado con más diferenica de temperatura fue durango"
   ]
  },
  {
   "cell_type": "code",
   "execution_count": 65,
   "metadata": {},
   "outputs": [
    {
     "data": {
      "text/plain": [
       "Edo\n",
       "QROO    11.700403\n",
       "BCS     11.313754\n",
       "SLP     11.256903\n",
       "VER     10.249251\n",
       "TAB      9.398468\n",
       "dtype: float64"
      ]
     },
     "execution_count": 65,
     "metadata": {},
     "output_type": "execute_result"
    }
   ],
   "source": [
    "#Tmbién podemos ver los estados con menor diferencia yendo al final de la tabla\n",
    "diferencia.tail()"
   ]
  },
  {
   "cell_type": "raw",
   "metadata": {},
   "source": [
    "Podemos analizar datos de las tablas creadas, como catidad promedio, desviación estándar,... etc."
   ]
  },
  {
   "cell_type": "code",
   "execution_count": 70,
   "metadata": {},
   "outputs": [
    {
     "data": {
      "text/plain": [
       "Tmin    10.126373\n",
       "dtype: float64"
      ]
     },
     "execution_count": 70,
     "metadata": {},
     "output_type": "execute_result"
    }
   ],
   "source": [
    "#La temperatura mínima, máxima y la diferencia promedio:\n",
    "t_min.mean()"
   ]
  },
  {
   "cell_type": "code",
   "execution_count": 71,
   "metadata": {},
   "outputs": [
    {
     "data": {
      "text/plain": [
       "Tmax    25.295201\n",
       "dtype: float64"
      ]
     },
     "execution_count": 71,
     "metadata": {},
     "output_type": "execute_result"
    }
   ],
   "source": [
    "t_max.mean()"
   ]
  },
  {
   "cell_type": "code",
   "execution_count": 72,
   "metadata": {},
   "outputs": [
    {
     "data": {
      "text/plain": [
       "15.142899828320106"
      ]
     },
     "execution_count": 72,
     "metadata": {},
     "output_type": "execute_result"
    }
   ],
   "source": [
    "diferencia.mean()"
   ]
  },
  {
   "cell_type": "code",
   "execution_count": 73,
   "metadata": {},
   "outputs": [
    {
     "data": {
      "text/plain": [
       "Edo\n",
       "AGS      13.936255\n",
       "BC       14.607619\n",
       "BCS      19.562553\n",
       "CAMP     23.298552\n",
       "CHIH     10.498588\n",
       "CHIS     22.369124\n",
       "COAH     13.231084\n",
       "COL      25.819440\n",
       "DF       15.411652\n",
       "DGO      12.695142\n",
       "GRO      22.748404\n",
       "GTO      15.508780\n",
       "HGO      14.993390\n",
       "JAL      18.029378\n",
       "MEX      12.816365\n",
       "MICH     17.205167\n",
       "MOR      17.689391\n",
       "NAY      22.356855\n",
       "NL       14.213307\n",
       "OAX      21.396129\n",
       "PUE      15.114949\n",
       "QROO     23.977928\n",
       "SIN      20.556872\n",
       "SLP      19.477241\n",
       "SON      14.376226\n",
       "TAB      23.350393\n",
       "TAMPS    17.513564\n",
       "TLAX     12.394758\n",
       "VER      18.953760\n",
       "YUC      22.524498\n",
       "ZAC      12.808925\n",
       "dtype: float64"
      ]
     },
     "execution_count": 73,
     "metadata": {},
     "output_type": "execute_result"
    }
   ],
   "source": [
    "#De la tabla fusionada calculamos el promedio resultante de la temperatura máxima y mínima\n",
    "merged.mean(axis='columns')"
   ]
  },
  {
   "cell_type": "code",
   "execution_count": 76,
   "metadata": {},
   "outputs": [
    {
     "data": {
      "text/plain": [
       "Tmin    32\n",
       "dtype: int64"
      ]
     },
     "execution_count": 76,
     "metadata": {},
     "output_type": "execute_result"
    }
   ],
   "source": [
    "#Para saber el número total de elementos, por ejemplo para T_min\n",
    "t_min.count()\n",
    "#Sería el total de estados analizados."
   ]
  },
  {
   "cell_type": "code",
   "execution_count": 79,
   "metadata": {},
   "outputs": [
    {
     "data": {
      "text/plain": [
       "Tmin    26.725197\n",
       "dtype: float64"
      ]
     },
     "execution_count": 79,
     "metadata": {},
     "output_type": "execute_result"
    }
   ],
   "source": [
    "#La varianza en T_min\n",
    "t_min.var()"
   ]
  },
  {
   "cell_type": "code",
   "execution_count": null,
   "metadata": {},
   "outputs": [],
   "source": []
  }
 ],
 "metadata": {
  "kernelspec": {
   "display_name": "Python 3",
   "language": "python",
   "name": "python3"
  },
  "language_info": {
   "codemirror_mode": {
    "name": "ipython",
    "version": 3
   },
   "file_extension": ".py",
   "mimetype": "text/x-python",
   "name": "python",
   "nbconvert_exporter": "python",
   "pygments_lexer": "ipython3",
   "version": "3.8.5"
  }
 },
 "nbformat": 4,
 "nbformat_minor": 4
}
