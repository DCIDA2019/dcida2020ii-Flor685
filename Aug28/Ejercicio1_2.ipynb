{
 "cells": [
  {
   "cell_type": "raw",
   "metadata": {},
   "source": [
    "2.- Reescribe dicho código aprovechando el manejo de arreglos de numpy. "
   ]
  },
  {
   "cell_type": "code",
   "execution_count": 49,
   "metadata": {},
   "outputs": [
    {
     "data": {
      "text/plain": [
       "<matplotlib.collections.PathCollection at 0x1bc8623e310>"
      ]
     },
     "execution_count": 49,
     "metadata": {},
     "output_type": "execute_result"
    },
    {
     "data": {
      "image/png": "[encoded data removed]",
      "text/plain": [
       "<Figure size 432x288 with 1 Axes>"
      ]
     },
     "metadata": {
      "needs_background": "light"
     },
     "output_type": "display_data"
    }
   ],
   "source": [
    "#Importo librerías básicas\n",
    "import numpy as np \n",
    "import matplotlib.pyplot as plt\n",
    "import math\n",
    "\n",
    "#Los parámetros del péndulo donde g es gravedad y l longitud en cm\n",
    "g=9.81          \n",
    "#l=float(input(\"Longitud del péndulo:\")) \n",
    "l=10\n",
    "w=g/l\n",
    "\n",
    "#La ecuación que describe el movimiento de un péndulo es y''+ g/l sin(y) = 0, donde y=y(x)\n",
    "#Reducimos el problema de segundo orden a un sistema de primer orden con el cambio y'=u.\n",
    "#El sistema queda definido por las siguientes dos funciones:\n",
    "\n",
    "def dy(x,y,u):\n",
    "    return u\n",
    "def du(x,y,u):\n",
    "    return -w*math.sin(y)\n",
    "\n",
    "xf=9\n",
    "h=0.01\n",
    "t=np.arange(0,xf+0.01,h)\n",
    "n=len(t)\n",
    "\n",
    "\n",
    "x=np.zeros(n)\n",
    "y=np.zeros(n)\n",
    "u=np.ones(n)\n",
    "\n",
    "#Desarrollamos el método de Euler\n",
    "\n",
    "for i in np.arange(1,n):\n",
    "    y[i]=y[i-1]+h*(dy(x[i-1],y[i-1],u[i-1]))\n",
    "    u[i]=u[i-1]+h*(du(x[i-1],y[i-1],u[i-1]))\n",
    "    x[i]=x[i-1]+h\n",
    "\n",
    "#    print (x[i],y[i], u[i])\n",
    "plt.scatter(x,y)\n",
    "#plt.scatter(x,ys, color='red')"
   ]
  },
  {
   "cell_type": "code",
   "execution_count": null,
   "metadata": {},
   "outputs": [],
   "source": []
  }
 ],
 "metadata": {
  "kernelspec": {
   "display_name": "Python 3",
   "language": "python",
   "name": "python3"
  },
  "language_info": {
   "codemirror_mode": {
    "name": "ipython",
    "version": 3
   },
   "file_extension": ".py",
   "mimetype": "text/x-python",
   "name": "python",
   "nbconvert_exporter": "python",
   "pygments_lexer": "ipython3",
   "version": "3.8.5"
  }
 },
 "nbformat": 4,
 "nbformat_minor": 4
}
