{
 "cells": [
  {
   "cell_type": "raw",
   "metadata": {},
   "source": [
    "\"1.- Escribe un código simple en python, para resolver la ecuación de movimiento de un péndulo simple utilizando la sintaxis básica, i.e cómo si fuera C/fortran \""
   ]
  },
  {
   "cell_type": "code",
   "execution_count": 13,
   "metadata": {},
   "outputs": [
    {
     "name": "stdin",
     "output_type": "stream",
     "text": [
      "Longitud del péndulo: 10\n"
     ]
    },
    {
     "data": {
      "text/plain": [
       "<matplotlib.collections.PathCollection at 0x1a230186370>"
      ]
     },
     "execution_count": 13,
     "metadata": {},
     "output_type": "execute_result"
    },
    {
     "data": {
      "image/png": "[encoded data removed]",
      "text/plain": [
       "<Figure size 432x288 with 1 Axes>"
      ]
     },
     "metadata": {
      "needs_background": "light"
     },
     "output_type": "display_data"
    }
   ],
   "source": [
    "#Importo librerías básicas\n",
    "import numpy as np \n",
    "import matplotlib.pyplot as plt\n",
    "import math\n",
    "\n",
    "#Los parámetros del péndulo donde g es gravedad y l longitud en cm\n",
    "g=9.81          \n",
    "l=float(input(\"Longitud del péndulo:\")) \n",
    "#l=10\n",
    "w=g/l\n",
    "\n",
    "#La ecuación que describe el movimiento de un péndulo es y''+ g/l sin(y) = 0, donde y=y(x)\n",
    "#Reducimos el problema de segundo orden a un sistema de primer orden con el cambio y'=u.\n",
    "#El sistema queda definido por las siguientes dos funciones:\n",
    "\n",
    "def dy(x,y,u):\n",
    "    return u\n",
    "def du(x,y,u):\n",
    "    return -w*math.sin(y)\n",
    "\n",
    "#Valores iniciales del problema, y número y longitud de pasos\n",
    "n=100\n",
    "x0=0\n",
    "xf=9\n",
    "y0=0\n",
    "u0=1\n",
    "h=(xf-x0)/n\n",
    "\n",
    "x=[x0]\n",
    "y=[y0]\n",
    "u=[u0]\n",
    "\n",
    "#Desarrollamos el método de Euler\n",
    "for i in range (n):\n",
    "    y0= y0+h*dy(x0,y0,u0)\n",
    "    y.append(y0)\n",
    "    u0= u0+h*du(x0,y0,u0)\n",
    "    u.append(u0)\n",
    "    x0=x0+h\n",
    "    x.append(x0)\n",
    "#print(x,y)\n",
    "\n",
    "#print(y[-1])\n",
    "plt.scatter(x,y)\n",
    "\n"
   ]
  },
  {
   "cell_type": "code",
   "execution_count": null,
   "metadata": {},
   "outputs": [],
   "source": []
  }
 ],
 "metadata": {
  "kernelspec": {
   "display_name": "Python 3",
   "language": "python",
   "name": "python3"
  },
  "language_info": {
   "codemirror_mode": {
    "name": "ipython",
    "version": 3
   },
   "file_extension": ".py",
   "mimetype": "text/x-python",
   "name": "python",
   "nbconvert_exporter": "python",
   "pygments_lexer": "ipython3",
   "version": "3.8.5"
  }
 },
 "nbformat": 4,
 "nbformat_minor": 4
}
